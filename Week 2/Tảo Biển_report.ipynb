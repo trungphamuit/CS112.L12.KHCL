{
 "cells": [
  {
   "cell_type": "markdown",
   "metadata": {},
   "source": [
    "# 1. Abstraction :\n",
    " Tính tích $ n* fib(2k + 1) $ với:\n",
    " * $n$ là số cá thể ban đầu có kiểu dữ liệu **integer** $\\in$ [ 1 , 1000 ]\n",
    " * $k$ là số ngày có kiểu dữ liệu **integer** $\\in$ [ 1 , $10^{18}$ ]\n",
    " * $fib(2k + 1)$ là số fibonacci thứ $2k + 1$\n",
    "\n",
    "# 2. Pattern Recognition :\n",
    "\n",
    "Ở bài toán này, chúng ta cần phải **tính số fibonacci thứ n** ($fibonacci(n))$ và có rất nhiều cách khác nhau để tìm như:\n",
    "* Đệ quy (Recursion)\n",
    "* Quy hoạch động (Dynamic Programming)\n",
    "* Sử dụng ma trận (Recursive powering)\n",
    " \n",
    "# 3. Algorithm designed : \n",
    "Ở đây chúng ta sẽ sử dụng phương pháp nhân ma trận để tính:\n",
    "\n",
    " $\\begin{pmatrix}\n",
    "  1 & 1\\\\\n",
    "  1 & 0\\\\\n",
    " \\end{pmatrix}^{n}$ =  $\\begin{pmatrix}\n",
    "  F_{n+1} & F_{n}\\\\\n",
    "  F_{n} & F_{n-1}\\\\\n",
    " \\end{pmatrix}$\n",
    "\n",
    "Độ phức tạp của thuật toán là $O(log n)$ :\n",
    "    \n",
    "Độ phức tạp bộ nhớ là $O(1)$\n",
    "\n",
    "# 4. Programming :"
   ]
  },
  {
   "cell_type": "code",
   "execution_count": 1,
   "metadata": {},
   "outputs": [
    {
     "name": "stdout",
     "output_type": "stream",
     "text": [
      "3 2\n",
      "15\n"
     ]
    }
   ],
   "source": [
    "def multiply(F,M):\n",
    "  a = (F[0][0] * M[0][0] +  F[0][1] * M[1][0]) % 1000000007\n",
    "  b = (F[0][0] * M[0][1] +  F[0][1] * M[1][1]) % 1000000007\n",
    "  c = (F[1][0] * M[0][0] +  F[1][1] * M[1][0]) % 1000000007\n",
    "  d = (F[1][0] * M[0][1] +  F[1][1] * M[1][1]) % 1000000007\n",
    "\n",
    "  F[0][0] = a\n",
    "  F[0][1] = b\n",
    "  F[1][0] = c\n",
    "  F[1][1] = d\n",
    "\n",
    "#Tính luỹ thừa nhanh\n",
    "def power(F,n):\n",
    "  if n == 0 or n == 1:\n",
    "    return\n",
    "  M = [[1,1],[1,0]]\n",
    "  power(F, n // 2)  \n",
    "  multiply(F,F)\n",
    "  if n % 2 != 0:\n",
    "    multiply(F,M)\n",
    "\n",
    "def fibonacci(n):\n",
    "  F = [[1,1],[1,0]]\n",
    "  if n == 0:\n",
    "    return 0\n",
    "  power(F, n - 1)\n",
    "  return F[0][0]\n",
    "\n",
    "n, k = map(int,input().split())\n",
    "print(n*fibonacci(2*k+1) % 1000000007)"
   ]
  },
  {
   "cell_type": "code",
   "execution_count": null,
   "metadata": {},
   "outputs": [],
   "source": []
  },
  {
   "cell_type": "code",
   "execution_count": null,
   "metadata": {},
   "outputs": [],
   "source": []
  }
 ],
 "metadata": {
  "kernelspec": {
   "display_name": "Python 3",
   "language": "python",
   "name": "python3"
  },
  "language_info": {
   "codemirror_mode": {
    "name": "ipython",
    "version": 3
   },
   "file_extension": ".py",
   "mimetype": "text/x-python",
   "name": "python",
   "nbconvert_exporter": "python",
   "pygments_lexer": "ipython3",
   "version": "3.7.4"
  }
 },
 "nbformat": 4,
 "nbformat_minor": 4
}
