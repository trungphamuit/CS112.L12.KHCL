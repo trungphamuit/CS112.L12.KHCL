{
 "cells": [
  {
   "cell_type": "markdown",
   "metadata": {},
   "source": [
    "# 1. Abstraction :\n",
    "\n",
    "* Tìm tích của n với phần tử thứ 2k + 1 trong dãy Fibonaci\n",
    "\n",
    "# 2. Pattern Recognition :\n",
    "\n",
    "    1. Truy hồi ( Recursion )\n",
    "    2. Quy hoạch động ( Dynamic Programing )\n",
    "    3. Sử dụng ma trận Fibonaci ( Fibonaci Q-Matrix )\n",
    " \n",
    "# 3. Algorithm designed : \n",
    "\n",
    "    3.1.  Input and Output :\n",
    "\n",
    "    * Input : \n",
    "    . n là số cá thể ban đầu thuộc kiểu integer và nằm trong đoạn [1,1000] ( 1 ≤ n ≤ 1000 )\n",
    "    . k là số ngày thuộc kiểu integer và nằm trong đoạn [1,10^18]  ( 1 ≤ k ≤ 10^18 )\n",
    "\n",
    "    * Output : Đưa ra thiết bị xuất chuẩn một số nguyên – số lượng cá thể tảo theo mô đun  10^9 +7.\n",
    "\n",
    "    3.2. Time complexity: O(Logn)\n",
    "    \n",
    "    3.3. Space complexity: O(1)\n",
    "\n",
    "# 4. Programming :"
   ]
  },
  {
   "cell_type": "code",
   "execution_count": 1,
   "metadata": {},
   "outputs": [
    {
     "name": "stdout",
     "output_type": "stream",
     "text": [
      "3 2\n",
      "15\n"
     ]
    }
   ],
   "source": [
    "def multiply(F,M):\n",
    "  a = (F[0][0] * M[0][0] +  F[0][1] * M[1][0]) % 1000000007\n",
    "  b = (F[0][0] * M[0][1] +  F[0][1] * M[1][1]) % 1000000007\n",
    "  c = (F[1][0] * M[0][0] +  F[1][1] * M[1][0]) % 1000000007\n",
    "  d = (F[1][0] * M[0][1] +  F[1][1] * M[1][1]) % 1000000007\n",
    "\n",
    "  F[0][0] = a\n",
    "  F[0][1] = b\n",
    "  F[1][0] = c\n",
    "  F[1][1] = d\n",
    "\n",
    "#Tính luỹ thừa nhanh\n",
    "def power(F,n):\n",
    "  if n == 0 or n == 1:\n",
    "    return\n",
    "  M = [[1,1],[1,0]]\n",
    "  power(F, n // 2)  \n",
    "  multiply(F,F)\n",
    "  if n % 2 != 0:\n",
    "    multiply(F,M)\n",
    "\n",
    "def fibonacci(n):\n",
    "  F = [[1,1],[1,0]]\n",
    "  if n == 0:\n",
    "    return 0\n",
    "  power(F, n - 1)\n",
    "  return F[0][0]\n",
    "\n",
    "n, k = map(int,input().split())\n",
    "print(n*fibonacci(2*k+1) % 1000000007)"
   ]
  },
  {
   "cell_type": "code",
   "execution_count": null,
   "metadata": {},
   "outputs": [],
   "source": []
  },
  {
   "cell_type": "code",
   "execution_count": null,
   "metadata": {},
   "outputs": [],
   "source": []
  }
 ],
 "metadata": {
  "kernelspec": {
   "display_name": "Python 3",
   "language": "python",
   "name": "python3"
  },
  "language_info": {
   "codemirror_mode": {
    "name": "ipython",
    "version": 3
   },
   "file_extension": ".py",
   "mimetype": "text/x-python",
   "name": "python",
   "nbconvert_exporter": "python",
   "pygments_lexer": "ipython3",
   "version": "3.7.6"
  }
 },
 "nbformat": 4,
 "nbformat_minor": 4
}