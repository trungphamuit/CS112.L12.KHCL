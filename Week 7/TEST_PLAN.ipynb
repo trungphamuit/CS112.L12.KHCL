{
  "nbformat": 4,
  "nbformat_minor": 0,
  "metadata": {
    "colab": {
      "name": "TEST_PLAN.ipynb",
      "provenance": [],
      "authorship_tag": "ABX9TyMZI1zp1zHlUwiWaudiCMZd",
      "include_colab_link": true
    },
    "kernelspec": {
      "name": "python3",
      "display_name": "Python 3"
    }
  },
  "cells": [
    {
      "cell_type": "markdown",
      "metadata": {
        "id": "view-in-github",
        "colab_type": "text"
      },
      "source": [
        "<a href=\"https://colab.research.google.com/github/trungphamuit/CS112.L12.KHCL/blob/master/Week%207/TEST_PLAN.ipynb\" target=\"_parent\"><img src=\"https://colab.research.google.com/assets/colab-badge.svg\" alt=\"Open In Colab\"/></a>"
      ]
    },
    {
      "cell_type": "markdown",
      "metadata": {
        "id": "GRsHONYsCFOa"
      },
      "source": [
        "**ĐỊA LAN (1s, 100MB)**\n",
        "\n",
        "Giáo sư Braun đã lai giống tạo ra n loại địa lan mới độc đáo. Mỗi loại địa lan được trồng trong một châu riêng và được ghi một số cụ thể thể hiện đặc điểm gene của loại hoa đó, chậu thứ i có số là $a_{i}, i = 1 ÷ n$.\n",
        "\n",
        "Hội chợ hoa địa lan thế giới mời giáo sư tham gia và giới thiệu các thành quả nghiên cứu của ông. Các chậu hoa do ông mang tới sẽ được đặt trên **k** đôn dọc theo đường đi dẫn tới gian hàng chính của hội chợ.\n",
        "\n",
        "Muốn gây ấn tượng mạnh cho những người tham dự, đặc biệt là các nhà khoa học, giáo sư yêu cầu trợ lý của mình chọn **k** chậu sao cho khi thực hiện phép **AND** số trên các chậu hoa tới (nếu xét chúng ở dạng biểu diễn nhị phân) sẽ có kết quả bằng 0.\n",
        "\n",
        "Hãy xác định xem người trợ lý có thể chọn đưuọc **k** chậu như vậy hay không và đưa ra thông báo **\"YES\"** hoặc **\"NO\"**\n",
        "\n",
        "**Dữ liệu**: Vào từ thiết bị nhập chuẩn:\n",
        "- Dòng đầu tiên chứa 2 số nguyên n và k ($ 1 ≤ n ≤ 2 * 10^{14} , 1 ≤k ≤n$)\n",
        "- Dòng thứ 2 chứa n số nguyên $a_{1}, a_{2} , ... , a_{n}, (0 ≤ a_{i} < 2^{12}, i = 1 ÷ n)$\n",
        "\n",
        "**Kết quả**: Đưa ra thiết bị xuất chuẩn thông báo tìm được.\n",
        "\n",
        "---\n",
        "\n"
      ]
    }
  ]
}