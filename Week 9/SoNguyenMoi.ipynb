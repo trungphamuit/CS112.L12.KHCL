{
  "nbformat": 4,
  "nbformat_minor": 0,
  "metadata": {
    "colab": {
      "name": "SoNguyenMoi.ipynb",
      "provenance": [],
      "authorship_tag": "ABX9TyMDF16UtOVMs7KTukyj0ZVr",
      "include_colab_link": true
    },
    "kernelspec": {
      "name": "python3",
      "display_name": "Python 3"
    }
  },
  "cells": [
    {
      "cell_type": "markdown",
      "metadata": {
        "id": "view-in-github",
        "colab_type": "text"
      },
      "source": [
        "<a href=\"https://colab.research.google.com/github/trungphamuit/CS112.L12.KHCL/blob/master/SoNguyenMoi.ipynb\" target=\"_parent\"><img src=\"https://colab.research.google.com/assets/colab-badge.svg\" alt=\"Open In Colab\"/></a>"
      ]
    },
    {
      "cell_type": "markdown",
      "metadata": {
        "id": "8MFpnJgnzyhF"
      },
      "source": [
        "# **SỐ NGUYÊN MỚI**<br>\n",
        "Cho số nguyên dương n có không quá 100 chữ số. Hãy xác định số nguyên lớn nhất m chia hết cho 3 và khác n ở đúng một chữ số.\n",
        "\n",
        "**Ví dụ**, n = 123 thì m sẽ là 723.\n",
        "\n",
        "**Dữ liệu:** \n",
        ">Vào từ thiết bị nhập chuẩn gồm một dòng chứa số nguyên n có không quá 100 chữ số và không chứa các số 0 không có nghĩa.\n",
        "\n",
        "**Kết quả:** \n",
        ">Đưa ra thiết bị xuất chuẩn số nguyên m tìm được.\n",
        "\n",
        "**Ví dụ:**\n",
        "\n",
        "|INPUT|OUTPUT|\n",
        "|--|--|\n",
        "|123|723|"
      ]
    },
    {
      "cell_type": "markdown",
      "metadata": {
        "id": "gJaECsfl0G_T"
      },
      "source": [
        "# **Abstraction**\n",
        "\n",
        "> test \n",
        "\n",
        "# **Pattern Recognition**\n",
        "\n",
        "> test \n",
        "\n",
        "# **Algorithm Design**\n",
        "\n",
        "> test \n",
        "\n",
        "# **Programming**"
      ]
    },
    {
      "cell_type": "code",
      "metadata": {
        "id": "XYjsbPBJzpul"
      },
      "source": [
        ""
      ],
      "execution_count": null,
      "outputs": []
    }
  ]
}
