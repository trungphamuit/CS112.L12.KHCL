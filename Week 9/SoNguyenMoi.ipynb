{
  "nbformat": 4,
  "nbformat_minor": 0,
  "metadata": {
    "colab": {
      "name": "SoNguyenMoi.ipynb",
      "provenance": [],
      "authorship_tag": "ABX9TyMg2GCo5ozUcnoLCgnFbU00",
      "include_colab_link": true
    },
    "kernelspec": {
      "name": "python3",
      "display_name": "Python 3"
    }
  },
  "cells": [
    {
      "cell_type": "markdown",
      "metadata": {
        "id": "view-in-github",
        "colab_type": "text"
      },
      "source": [
        "<a href=\"https://colab.research.google.com/github/trungphamuit/CS112.L12.KHCL/blob/master/Week%209/SoNguyenMoi.ipynb\" target=\"_parent\"><img src=\"https://colab.research.google.com/assets/colab-badge.svg\" alt=\"Open In Colab\"/></a>"
      ]
    },
    {
      "cell_type": "markdown",
      "metadata": {
        "id": "8MFpnJgnzyhF"
      },
      "source": [
        "# **SỐ NGUYÊN MỚI**<br>\n",
        "Cho số nguyên dương n có không quá 100 chữ số. Hãy xác định số nguyên lớn nhất m chia hết cho 3 và khác n ở đúng một chữ số.\n",
        "\n",
        "**Ví dụ**, n = 123 thì m sẽ là 723.\n",
        "\n",
        "**Dữ liệu:** \n",
        ">Vào từ thiết bị nhập chuẩn gồm một dòng chứa số nguyên n có không quá 100 chữ số và không chứa các số 0 không có nghĩa.\n",
        "\n",
        "**Kết quả:** \n",
        ">Đưa ra thiết bị xuất chuẩn số nguyên m tìm được.\n",
        "\n",
        "**Ví dụ:**\n",
        "\n",
        "|INPUT|OUTPUT|\n",
        "|--|--|\n",
        "|123|723|"
      ]
    },
    {
      "cell_type": "markdown",
      "metadata": {
        "id": "gJaECsfl0G_T"
      },
      "source": [
        "# **Abstraction**\n",
        "\n",
        "> Tìm số nguyên mới lớn nhất sao cho chia hết cho 3 và không khác quá 1 chữ số so với số nguyên nhập vào. \n",
        "\n",
        "# **Pattern Recognition**\n",
        "\n",
        "> Số học\n",
        "\n",
        "# **Algorithm Design**\n",
        "\n",
        "> **Ý tưởng**: Dựa vào tính chất của số chia hết cho 3, để đảm bảo khi thay đổi 1 chữ số trong dãy số đã cho thành 1 số chia hết cho 3, ta cần tính tổng của các chữ số (trừ vị trí đang xét) và lấy phần dư để có thể chọn được số có thể thay đổi.\n",
        "\n",
        ">**Ví dụ**: INPUT = 123<br>\n",
        "Mảng tổng các chữ số được tạo ra sẽ là [5,4,3] % 3 = [2,1,0] <br>\n",
        "Với mỗi vị trí ta thay đổi các chữ số thành 1 số chia hết cho 3 theo bảng sau:<br>\n",
        "\n",
        "|Phần dư| Giá trị thay đổi|\n",
        "|--|--|\n",
        "|0|9|\n",
        "|1|8|\n",
        "|2|7|\n",
        "\n",
        "> Qua đó ta có thể thấy các số tạo thành sẽ là **723**(Số lớn nhất),173,129.\n",
        ">Vậy nên OUTPUT = 723.\n",
        "\n",
        "> **Trường hợp khác**: Đối với trường hợp INPUT = 999...999, là một số đã chia hết cho 3 và là số lớn nhất nên để thoả mã yêu cầu đề bài thì ta cần phải giảm giá trị của INPUT xuống 3 đơn vị để thoả yêu cầu.\n",
        "\n",
        ">**Mã giả**:\n",
        "```\n",
        "n = INPUT\n",
        "list_ = [i for i in str(n)] # Danh sách các chữ số trong n.\n",
        "zero_list_ = [0]* len(list_) # Danh sách phần tử 0 với số lượng bằng số lượng kí tự của n. \n",
        "Tạo vòng lặp: i,j in list_, zero_list_: # Tính phần dư của dãy số.\n",
        "    If i != j:\n",
        "      zero_list_[j] += list_[i]\n",
        "      zero_list_[j] %= 3\n",
        "Result = [] # Danh sách lưu các giá trị thay đổi\n",
        "Tạo vòng lặp: i in list_:\n",
        "    x = list_.copy() # Tạo một bản sao danh sách phần tử n.\n",
        "    If x[i] == 0:\n",
        "        x[i] = 9\n",
        "    elif x[i] == 1:\n",
        "        x[i] == 8\n",
        "    elif x[i] == 2:\n",
        "        x[i] == 7\n",
        "\n",
        "```\n",
        "\n",
        "# **Programming**"
      ]
    },
    {
      "cell_type": "code",
      "metadata": {
        "id": "XYjsbPBJzpul",
        "outputId": "fc562697-182e-4374-e8bf-0fa1f5ffaae0",
        "colab": {
          "base_uri": "https://localhost:8080/"
        }
      },
      "source": [
        "n = input()\n",
        "n2 = int(n)\n",
        "a = list(map(int, list(n)))\n",
        "x = [0]*len(a)\n",
        "ans = []\n",
        "for i in range(len(a)):\n",
        "  for j in range(len(x)):\n",
        "    if i == j:\n",
        "      x[j] += 0\n",
        "    else:\n",
        "      x[j] += a[i]\n",
        "      x[j] %= 3\n",
        "\n",
        "for i in range(len(a)):\n",
        "  temp = a.copy()\n",
        "  if x[i] == 0:\n",
        "    temp[i] = 9\n",
        "    ans.append(temp)\n",
        "  elif x[i] == 1:\n",
        "    temp[i] = 8\n",
        "    ans.append(temp)\n",
        "  elif x[i] == 2:\n",
        "    temp[i] = 7\n",
        "    ans.append(temp)\n",
        "\n",
        "#print(a,x)\n",
        "#print(ans)\n",
        "ans_2 = []\n",
        "for i in ans:\n",
        "  ans_2.append(int(''.join([str(x) for x in i])))\n",
        "\n",
        "ans_2.sort(reverse=True)\n",
        "if ans_2[0] == n2:\n",
        "  print(ans_2[0]-3)\n",
        "else:\n",
        "  print(ans_2[0])"
      ],
      "execution_count": 1,
      "outputs": [
        {
          "output_type": "stream",
          "text": [
            "123\n",
            "723\n"
          ],
          "name": "stdout"
        }
      ]
    }
  ]
}