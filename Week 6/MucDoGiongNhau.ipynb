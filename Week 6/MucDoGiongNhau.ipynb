{
 "metadata": {
  "language_info": {
   "codemirror_mode": {
    "name": "ipython",
    "version": 3
   },
   "file_extension": ".py",
   "mimetype": "text/x-python",
   "name": "python",
   "nbconvert_exporter": "python",
   "pygments_lexer": "ipython3",
   "version": 3
  },
  "orig_nbformat": 2
 },
 "nbformat": 4,
 "nbformat_minor": 2,
 "cells": [
  {
   "source": [
    "# ***MỨC ĐỘ GIỐNG NHAU (0.2S, 50MB)***\n",
    "\n",
    "Một quần thể sinh vật ngoài hành tinh có gene tạo thành từ 26 cơ sở ký hiệu từ ***A*** tới ***Z***. Mỗi gene là một xâu ký tự các chữ cái la tinh hoa. Hai cá thể khác nhau có gene khác nhau. Mức độ giống nhau của 2 gene sẽ xác định độ huyết thống của chúng.\n",
    "\n",
    "Độ giống nhau của gene thứ nhất đối với gene thứ 2 là số lượng cặp 2 cơ sở liên tiếp nhau trong gene thứ nhất đồng thời là cặp 2 cơ sở liên tiếp nhau trong gene thứ hai.\n",
    "\n",
    "![tải xuống](https://user-images.githubusercontent.com/62895829/96068309-e9df3e00-0ec5-11eb-8e87-61208b14024d.png)\n",
    "\n",
    "Ví dụ, gene thứ nhất là ***ABBACAB***, gene thứ 2 là ***BCABB*** thì mức độ giống nhau là 4.\n",
    "\n",
    "Cho hai gene. Hãy xác định mức độ giống nhau của gene thứ nhất với gene thứ 2.\n",
    "\n",
    "***Dữ liệu:*** Vào từ thiết bị nhập chuẩn bao gồm 2 dòng chứa 2 xâu khác rỗng xác định gene thứ nhất và gene thứ 2, mỗi xâu chỉ chứa các ký tự chữ cái in hoa và có độ dài không quá 105.\n",
    "\n",
    "***Kết quả:*** Đưa ra thiết bị xuất chuẩn một số nguyên – mức độ giống nhau của 2 genes.\n",
    "\n",
    "***Ví dụ:***\n",
    "\n",
    "| ***INPUT*** | ***OUTPUT*** |\n",
    "| --- | --- |\n",
    "| ***ABBACAB*** | 4 |\n",
    "| ***BCABB*** | |\n",
    "\n",
    "## 1. Abstraction\n",
    "\n",
    "## 2. Decomposition\n",
    "\n",
    "## 3. Pattern Recognization\n",
    "\n",
    "## 4.  Algorithm Designed\n",
    "\n",
    "## 5. Programming"
   ],
   "cell_type": "code",
   "metadata": {},
   "execution_count": null,
   "outputs": []
  }
 ]
}