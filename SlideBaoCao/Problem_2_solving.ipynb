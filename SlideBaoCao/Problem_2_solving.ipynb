{
  "nbformat": 4,
  "nbformat_minor": 0,
  "metadata": {
    "colab": {
      "name": "Problem_2_solving.ipynb",
      "provenance": [],
      "authorship_tag": "ABX9TyMg4daKcmu0sC0I8OWNcBQt",
      "include_colab_link": true
    },
    "kernelspec": {
      "name": "python3",
      "display_name": "Python 3"
    }
  },
  "cells": [
    {
      "cell_type": "markdown",
      "metadata": {
        "id": "view-in-github",
        "colab_type": "text"
      },
      "source": [
        "<a href=\"https://colab.research.google.com/github/trungphamuit/CS112.L12.KHCL/blob/master/SlideBaoCao/Problem_2_solving.ipynb\" target=\"_parent\"><img src=\"https://colab.research.google.com/assets/colab-badge.svg\" alt=\"Open In Colab\"/></a>"
      ]
    },
    {
      "cell_type": "markdown",
      "metadata": {
        "id": "68thwr6qICRk"
      },
      "source": [
        "# **Problem 2: Vịnh Hạ Long**\r\n",
        "---\r\n",
        "**Reference: [Find the largest region boolean matrix - GeeksForGeeks](https://www.geeksforgeeks.org/find-length-largest-region-boolean-matrix/)**\r\n",
        "\r\n",
        "---\r\n",
        "\r\n",
        ">Vịnh Hạ Long – được Unesco nhiều lần công nhận là di sản thiên nhiên của thế giới với hàng nghìn hòn đảo được làm nên bởi tạo hoá kỳ vĩ và sống động. Vịnh Hạ Long có phong cảnh tuyệt đẹp nên nơi đây là một điểm du lịch rất hấp dẫn với du khách trong nước và quốc tế. Khi biểu thị bản đồ của Vịnh Hạ Long dưới dạng một ma trận boolean bao gồm ‘0’ và ‘1’, bất kỳ ô nào chứa ‘1’ thì được gọi là phần đảo và có diện tích là 1 (đơn vị). Hai ô được cho là được kết nối nếu chúng nằm kề nhau theo chiều ngang, chiều dọc hoặc đường chéo. Nếu một hoặc nhiều ô ‘1’ cũng được kết nối với nhau, chúng tạo thành một đảo.\r\n",
        "Hãy xác định diện tích của hòn đảo lớn nhất ở Vịnh Hạ Long<br>\r\n",
        "\r\n",
        "**Dữ liệu:**<br> \r\n",
        ">Vào từ thiết bị nhập chuẩn gồm:<br>\r\n",
        "Dòng thứ nhất chứa 2 số nguyên m, n là kích thước của ma trận ( 1 <=  m,n <= 100 ).<br>\r\n",
        "Sau đó, ở dòng tiếp theo là n*m  đầu vào của ma trận A cách nhau bởi dấu cách ( A[][] ∈ {0,1} ).<br>\r\n",
        "\r\n",
        "**Kết quả:**<br> \r\n",
        "> Đưa ra thiết bị xuất một số nguyên – diện tích hòn đảo lớn nhất tính được.\r\n",
        "\r\n",
        "**Ví dụ**:<br>\r\n",
        "\r\n",
        "|INPUT|OUTPUT|\r\n",
        "|--|--|\r\n",
        "|5 5| 6|\r\n",
        "|0 0 1 1 0 1 0 1 1 0 0 1 0 0 0 0 0 0 0 1| |\r\n",
        "|5 5| 4|\r\n",
        "|0 0 1 1 0 0 0 1 1 0 0 0 0 0 0 0 0 0 0 1| |\r\n",
        "\r\n"
      ]
    },
    {
      "cell_type": "markdown",
      "metadata": {
        "id": "vRQEKVmrJVLx"
      },
      "source": [
        "# **Abstraction**\r\n",
        "> Tìm trên ma trận boolean 2 chiều vùng có số lượng số 1 liên kết với nhau nhiều nhất.\r\n",
        "\r\n",
        "# **Decomposition**\r\n",
        "\r\n",
        "> Duyệt tìm số lượng số 1 liên kết với nhau trên mảng 2 chiều không trùng lặp.\r\n",
        "> Kết quả cuối cùng là số lượng số 1 cũng là vùng có số lượng đảo nhiều nhất.\r\n",
        "\r\n",
        "# **Pattern Recognition**\r\n",
        "\r\n",
        "> Graph Algorithm : Depth-First Search\r\n",
        "\r\n",
        "# **Algorithm Design**\r\n",
        "\r\n",
        "> Hàm để kiểm tra xem một ô nhất định (row, col) có thể được đưa vào DFS<br>\r\n",
        "Hàm để thực hiện DFS cho một ma trận hai chiều. Nó chỉ coi 8 ô lân cận là các đỉnh liền kề.<br>\r\n",
        "```\r\n",
        "rowNbr = [-1, -1, -1, 0, 0, 1, 1, 1]\r\n",
        "colNbr = [-1, 0, 1, -1, 1, -1, 0, 1]\r\n",
        "```\r\n",
        "\r\n",
        "|(-1,1)|(0,1)|(1,1)|\r\n",
        "|-|-|-|\r\n",
        "|(0,-1)|vị trí xét|(0,1)|\r\n",
        "|(-1,-1)|(-1,0)|(-1,1)|\r\n",
        "\r\n",
        "Hàm chính trả về vùng có độ dài lớn nhất của ma trận boolean 2D đã cho.<br>\r\n",
        "\r\n",
        "Độ phức tạp của thuật toán: $O(row*col)$ (duyệt toàn bộ phần tử trong mảng 2 chiều).\r\n",
        "\r\n"
      ]
    },
    {
      "cell_type": "code",
      "metadata": {
        "colab": {
          "base_uri": "https://localhost:8080/"
        },
        "id": "_z2KC0cBL79Z",
        "outputId": "4537d32e-a0bb-4d44-ece8-9ec5c9d59582"
      },
      "source": [
        "def isSafe(M, row, col, visited):\r\n",
        "    global ROW, COL\r\n",
        "    return ((row >= 0) and (row < ROW) and\r\n",
        "            (col >= 0) and (col < COL) and\r\n",
        "            (M[row][col] and not visited[row][col]))\r\n",
        " \r\n",
        "def DFS(M, row, col, visited, count):\r\n",
        "    rowNbr = [-1, -1, -1, 0, 0, 1, 1, 1]\r\n",
        "    colNbr = [-1, 0, 1, -1, 1, -1, 0, 1]\r\n",
        "    visited[row][col] = True\r\n",
        "    for k in range(8):\r\n",
        "        if (isSafe(M, row + rowNbr[k],\r\n",
        "                   col + colNbr[k], visited)):\r\n",
        "            count[0] += 1\r\n",
        "            DFS(M, row + rowNbr[k],\r\n",
        "                col + colNbr[k], visited, count)\r\n",
        "def largestRegion(M):\r\n",
        "    global ROW, COL\r\n",
        "    visited = [[0] * COL for i in range(ROW)]\r\n",
        "    result = -999999999999\r\n",
        "    for i in range(ROW):\r\n",
        "        for j in range(COL):\r\n",
        "            if (M[i][j] and not visited[i][j]):\r\n",
        "                count = [1]\r\n",
        "                DFS(M, i, j, visited, count)\r\n",
        "                result = max(result, count[0])\r\n",
        "    return result\r\n",
        "\r\n",
        "ROW = 4\r\n",
        "COL = 5\r\n",
        " \r\n",
        "M = [[0, 0, 1, 1, 0],\r\n",
        "     [1, 0, 1, 1, 0],\r\n",
        "     [0, 1, 0, 0, 0],\r\n",
        "     [0, 0, 0, 0, 1]]\r\n",
        "\r\n",
        "print(largestRegion(M))"
      ],
      "execution_count": 1,
      "outputs": [
        {
          "output_type": "stream",
          "text": [
            "6\n"
          ],
          "name": "stdout"
        }
      ]
    }
  ]
}