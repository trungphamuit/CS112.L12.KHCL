{
  "nbformat": 4,
  "nbformat_minor": 0,
  "metadata": {
    "colab": {
      "name": "Problem_1_solving.ipynb",
      "provenance": [],
      "include_colab_link": true
    },
    "kernelspec": {
      "name": "python3",
      "display_name": "Python 3"
    }
  },
  "cells": [
    {
      "cell_type": "markdown",
      "metadata": {
        "id": "view-in-github",
        "colab_type": "text"
      },
      "source": [
        "<a href=\"https://colab.research.google.com/github/trungphamuit/CS112.L12.KHCL/blob/master/SlideBaoCao/Problem_1_solving.ipynb\" target=\"_parent\"><img src=\"https://colab.research.google.com/assets/colab-badge.svg\" alt=\"Open In Colab\"/></a>"
      ]
    },
    {
      "cell_type": "markdown",
      "metadata": {
        "id": "_sMS96GdubrQ"
      },
      "source": [
        "# **Problem 1: ĂN BÁNH**\r\n",
        "\r\n",
        "---\r\n",
        "**Reference: [The painter's partition problem - GeeksForGeeks](https://www.geeksforgeeks.org/painters-partition-problem/)**\r\n",
        "\r\n",
        "---\r\n",
        "\r\n",
        "> Nhân dịp tất niên cuối năm, thầy Sơn mang cho cả lớp một túi bánh gồm n cái bánh. Trong đó có rất nhiều loại bánh ngọt cực kỳ thơm ngon, ví dụ như bánh Mochi, bánh Tiramisu, bánh Macaron, bánh Donut,… Mỗi cái bánh cần i (phút) để ăn hết cái bánh đó. Thầy Sơn bày bánh trên một hàng dài và các bạn sẽ lên lấy bánh để ăn. Nhưng mà bây giờ đã hết thời gian của tiết học rồi. Chú quản lý cơ sở yêu cầu đóng cửa phòng học, thầy Sơn đã thương lượng được với chú quản lý là lớp sẽ ăn hết số bánh này trong thời gian ngắn nhất và sẽ rời khỏi phòng ngay sau đó.<br>\r\n",
        "Hãy xác định thời gian ngắn nhất để cả lớp (k sinh viên) ăn hết số bánh này, sao cho mỗi bạn chỉ được ăn những bánh liền kề nhau và một cái bánh chỉ được ăn bởi một bạn.<br>\r\n",
        "\r\n",
        "**Dữ liệu:**\r\n",
        "> <br>Vào từ thiết bị nhập chuẩn gồm:<br>\r\n",
        "Dòng thứ nhất chứa 2 số nguyên k, n  ( $1 ≤ n, k ≤ 10^{5}$ ).<br>\r\n",
        "Dòng thứ 2 là mảng chứa n số nguyên i được phân tách bằng dấu cách ( $1 ≤ i ≤ 10^{6}$ ).<br>\r\n",
        "\r\n",
        "**Kết quả:**\r\n",
        ">Đưa ra thiết bị xuất chuẩn một số nguyên – số phút ngắn nhất tính được.\r\n",
        "\r\n",
        "**Ví dụ:**\r\n",
        "\r\n",
        "|INPUT|OUTPUT|\r\n",
        "|--|--|\r\n",
        "|2 4| 60|\r\n",
        "|10 20 30 40|  |\r\n"
      ]
    },
    {
      "cell_type": "markdown",
      "metadata": {
        "id": "yRa0OeJbwGUr"
      },
      "source": [
        "# **Abstraction**\r\n",
        "> Cho một mảng A gồm các số nguyên không âm và một số nguyên dương k, chia A thành k vùng sao cho tổng lớn nhất của các phần tử trong phân vùng là nhỏ nhất.\r\n",
        "\r\n",
        "# **Decomposition**\r\n",
        "> Tính tổng của vùng bất kỳ 1 cách tổng quát.<br>\r\n",
        "Với mỗi lần phân vùng, lấy giá trị lớn nhất trong các tổng của vùng được chia.<br>\r\n",
        "Với các giá trị trên, chọn giá trị nhỏ nhất.\r\n",
        "\r\n",
        "# **Pattern Recognition**\r\n",
        "\r\n",
        "> **Backtracking algorithm**: Duyệt toàn bộ trường hợp có thể tìm thấy và chọn trường hợp tối ưu nhất.<br> Độ phức tạp thuật toán : $O(n^k)$.\r\n",
        "\r\n",
        "> **Dynamic Programming**: Theo tính chất:  \r\n",
        "1. Cấu trúc con tối ưu:\r\n",
        "![Image.png](https://media.geeksforgeeks.org/wp-content/uploads/paintersproblem.jpg)<br>\r\n",
        "2. Bài toán con chồng nhau:\r\n",
        "```\r\n",
        "    T(4, 3)\r\n",
        "     /    /    \\ ..         \r\n",
        "T(1, 2)  T(2, 2) T(3, 2) \r\n",
        "          /..      /..     \r\n",
        "      T(1, 1)    T(1, 1) \r\n",
        "```\r\n",
        "Độ phức tạp thuật toán: $O(k * n^2)$\r\n",
        "\r\n",
        "> **Binary Search**: Theo tính chất:\r\n",
        "1. Kết quả tìm được luôn nằm trong phạm vi tìm kiếm\r\n",
        "2. Phạm vị tìm kiếm sẽ giảm dần đến khi đạt được kết quả cuối cùng.\r\n",
        "\r\n",
        "> Đối với bài tập này, giá trị nhỏ nhất trong trường hợp $n = k$ là $max(arr[])$. Khi giá trị tổng phần tử liên tiếp càng nhỏ thì $k$ sẽ tăng và ngược lại. <br>\r\n",
        "Độ phức tạp thuật toán: $O(N * log(N))$\r\n",
        "\r\n",
        "# **Algorithm Design**\r\n",
        "\r\n",
        "```\r\n",
        "def numberOfPainters(arr, n, maxLen) <- trả về số lượng phần tử thoả mãn điều kiện tổng phần tử liên tiếp không vượt quá maxLen.\r\n",
        "  \r\n",
        "def partition(arr, n, k): <- Áp dụng thuật toán tìm kiếm nhị phân để cho ra kết quả cuối cùng.\r\n",
        "    lo = max(arr) \r\n",
        "    hi = sum(arr) \r\n",
        "    while (lo < hi): \r\n",
        "        mid = lo + (hi - lo) / 2\r\n",
        "        requiredPainters = numberOfPainters(arr, n, mid) \r\n",
        "        if (requiredPainters <= k): \r\n",
        "            hi = mid\r\n",
        "        else: \r\n",
        "            lo = mid + 1\r\n",
        "    return lo \r\n",
        "```\r\n",
        "\r\n",
        "\r\n",
        "\r\n"
      ]
    },
    {
      "cell_type": "code",
      "metadata": {
        "id": "9xDp16rwuWVV",
        "outputId": "b621a1d3-fee9-409d-9072-1d7e192df146",
        "colab": {
          "base_uri": "https://localhost:8080/"
        }
      },
      "source": [
        "def numberOfPainters(arr, n, maxLen): \r\n",
        "    total = 0\r\n",
        "    numPainters = 1\r\n",
        "    for i in arr: \r\n",
        "        total += i \r\n",
        "        if (total > maxLen): \r\n",
        "            total = i \r\n",
        "            numPainters += 1\r\n",
        "  \r\n",
        "    return numPainters \r\n",
        "  \r\n",
        "def partition(arr, n, k): \r\n",
        "    lo = max(arr) \r\n",
        "    hi = sum(arr) \r\n",
        "  \r\n",
        "    while (lo < hi): \r\n",
        "        mid = lo + (hi - lo) / 2\r\n",
        "        requiredPainters = numberOfPainters(arr, n, mid) \r\n",
        "        if (requiredPainters <= k): \r\n",
        "            hi = mid \r\n",
        "        else: \r\n",
        "            lo = mid + 1\r\n",
        "  \r\n",
        "    return lo \r\n",
        "  \r\n",
        "# Driver code \r\n",
        "arr = [1, 2, 3, 4, 5, 6, 7, 8, 9] \r\n",
        "n = len(arr) \r\n",
        "k = 3\r\n",
        "print(int(partition(arr, n, k))) "
      ],
      "execution_count": 1,
      "outputs": [
        {
          "output_type": "stream",
          "text": [
            "17\n"
          ],
          "name": "stdout"
        }
      ]
    }
  ]
}