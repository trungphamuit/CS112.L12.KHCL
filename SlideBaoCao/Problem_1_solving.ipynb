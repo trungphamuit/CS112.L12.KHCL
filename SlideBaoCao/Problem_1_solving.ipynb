{
  "nbformat": 4,
  "nbformat_minor": 0,
  "metadata": {
    "colab": {
      "name": "Problem_1_solving.ipynb",
      "provenance": [],
      "authorship_tag": "ABX9TyPhsHheJckedIbBnV4rvO05",
      "include_colab_link": true
    },
    "kernelspec": {
      "name": "python3",
      "display_name": "Python 3"
    }
  },
  "cells": [
    {
      "cell_type": "markdown",
      "metadata": {
        "id": "view-in-github",
        "colab_type": "text"
      },
      "source": [
        "<a href=\"https://colab.research.google.com/github/trungphamuit/CS112.L12.KHCL/blob/master/SlideBaoCao/Problem_1_solving.ipynb\" target=\"_parent\"><img src=\"https://colab.research.google.com/assets/colab-badge.svg\" alt=\"Open In Colab\"/></a>"
      ]
    },
    {
      "cell_type": "markdown",
      "metadata": {
        "id": "_sMS96GdubrQ"
      },
      "source": [
        "# **Problem 1: ĂN BÁNH**\r\n",
        "\r\n",
        "---\r\n",
        "**Reference: [The painter's partition problem - GeeksForGeeks](https://www.geeksforgeeks.org/painters-partition-problem/)**\r\n",
        "\r\n",
        "---\r\n",
        "\r\n",
        "> Nhân dịp tất niên cuối năm, thầy Sơn mang cho cả lớp một túi bánh gồm n cái bánh. Trong đó có rất nhiều loại bánh ngọt cực kỳ thơm ngon, ví dụ như bánh Mochi, bánh Tiramisu, bánh Macaron, bánh Donut,… Mỗi cái bánh cần i (phút) để ăn hết cái bánh đó. Thầy Sơn bày bánh trên một hàng dài và các bạn sẽ lên lấy bánh để ăn. Nhưng mà bây giờ đã hết thời gian của tiết học rồi. Chú quản lý cơ sở yêu cầu đóng cửa phòng học, thầy Sơn đã thương lượng được với chú quản lý là lớp sẽ ăn hết số bánh này trong thời gian ngắn nhất và sẽ rời khỏi phòng ngay sau đó.<br>\r\n",
        "Hãy xác định thời gian ngắn nhất để cả lớp (k sinh viên) ăn hết số bánh này, sao cho mỗi bạn chỉ được ăn những bánh liền kề nhau và một cái bánh chỉ được ăn bởi một bạn.<br>\r\n",
        "\r\n",
        "**Dữ liệu:**\r\n",
        "> <br>Vào từ thiết bị nhập chuẩn gồm:<br>\r\n",
        "Dòng thứ nhất chứa 2 số nguyên k, n  ( $1 <= n, k <= 10^{5}$ ).<br>\r\n",
        "Dòng thứ 2 là mảng chứa n số nguyên i được phân tách bằng dấu cách ( $1 <= i  <= 10^{6}$ ).<br>\r\n",
        "\r\n",
        "**Kết quả:**\r\n",
        ">Đưa ra thiết bị xuất chuẩn một số nguyên – số phút ngắn nhất tính được.\r\n",
        "\r\n",
        "**Ví dụ:**\r\n",
        "\r\n",
        "|INPUT|OUTPUT|\r\n",
        "|--|--|\r\n",
        "|2 4| 60|\r\n",
        "|10 20 30 40|  |\r\n"
      ]
    },
    {
      "cell_type": "markdown",
      "metadata": {
        "id": "yRa0OeJbwGUr"
      },
      "source": [
        "# **Abstraction**\r\n",
        "> Cho một mảng A gồm các số nguyên không âm và một số nguyên dương k, chia A thành k vùng sao cho tổng lớn nhất của các phần tử trong phân vùng là nhỏ nhất.\r\n",
        "\r\n",
        "# **Decomposition**\r\n",
        "> Tính tổng của vùng bất kỳ 1 cách tổng quát.<br>\r\n",
        "Với mỗi lần phân vùng, lấy giá trị lớn nhất trong các tổng của vùng được chia.<br>\r\n",
        "Với các giá trị trên, chọn giá trị nhỏ nhất.\r\n",
        "\r\n",
        "# **Pattern Recognition**\r\n",
        "\r\n",
        "\r\n"
      ]
    },
    {
      "cell_type": "code",
      "metadata": {
        "id": "9xDp16rwuWVV"
      },
      "source": [
        ""
      ],
      "execution_count": null,
      "outputs": []
    }
  ]
}
