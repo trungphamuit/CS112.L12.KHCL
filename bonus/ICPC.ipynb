{
  "nbformat": 4,
  "nbformat_minor": 0,
  "metadata": {
    "colab": {
      "name": "ICPC.ipynb",
      "provenance": [],
      "authorship_tag": "ABX9TyMfEzrrDPnELTeB8baHxezr",
      "include_colab_link": true
    },
    "kernelspec": {
      "name": "python3",
      "display_name": "Python 3"
    }
  },
  "cells": [
    {
      "cell_type": "markdown",
      "metadata": {
        "id": "view-in-github",
        "colab_type": "text"
      },
      "source": [
        "<a href=\"https://colab.research.google.com/github/trungphamuit/CS112.L12.KHCL/blob/master/bonus/ICPC.ipynb\" target=\"_parent\"><img src=\"https://colab.research.google.com/assets/colab-badge.svg\" alt=\"Open In Colab\"/></a>"
      ]
    },
    {
      "cell_type": "markdown",
      "metadata": {
        "id": "NN8o091yV8UW"
      },
      "source": [
        "# **ĐIỂM KHUYẾN KHÍCH**\n",
        "\n",
        "Thành viên cộng điểm khuyến khích: **UIT.Y2K**\n",
        "> Huỳnh Trọng Khoa - 18520918 <br>\n",
        "\n",
        "\n",
        "# **E2. Kỳ thi ICPC Miền Nam [25-10-2020] - 4 bài**\n",
        "![ROUND-1.png](https://i.imgur.com/d6DFYlg.png)\n",
        "# **E3. Kỳ thi ICPC Miền Bắc + Miền Trung [01-11-2020] - 5 bài**\n",
        "![ROUND-2.png](https://i.imgur.com/NRbNtiH.png)\n",
        "# **E4. Kỳ thi ICPC Quốc Gia [15-11-2020] - 2 bài**<br>\n",
        "![FINA.png](https://i.imgur.com/iFamFDO.png)"
      ]
    }
  ]
}