{
 "metadata": {
  "language_info": {
   "codemirror_mode": {
    "name": "ipython",
    "version": 3
   },
   "file_extension": ".py",
   "mimetype": "text/x-python",
   "name": "python",
   "nbconvert_exporter": "python",
   "pygments_lexer": "ipython3",
   "version": 3
  },
  "orig_nbformat": 2
 },
 "nbformat": 4,
 "nbformat_minor": 2,
 "cells": [
  {
   "source": [
    "# Đề bài\n",
    "## KHÔI PHỤC HỆ THỐNG CẤP NƯỚC (1s, 100MB)\n",
    "\n",
    "Vùng đất diệu kỳ Wonderland có ***N*** hộ gia đình đã được trang bị một hệ thống cung cấp nước sạch đến từng ngôi nhà. Mỗi đường ống nối trực tiếp 2 nhà, nước chảy trong đường ống theo 2 chiều, có thể truyền qua nhiều trung gian trước khi đến một nhà nào đó. Trong hồ sơ lưu trữ, các ngôi nhà được ghi số từ 1 đến ***N***.\n",
    "\n",
    "Một trận động đất đã gây nên sự cố nghiêm trọng làm cho cả vùng bị chia cắt thành nhiều khu vực rời nhau, không còn tiếp cận được với nguồn nước. Để khắc phục, những người có trách nhiệm đã khảo sát hiện trạng và ghi nhận được toàn vùng đất đang thảm họa vẫn còn ***M*** đường ống đang hoạt động tốt.\n",
    "\n",
    "Nhiệm vụ đặt ra là phải khôi phục hệ thống cấp nước bằng cách lắp thêm một số đường ống. Tuy nhiên, do hạn chế về thời gian và kinh phí nên đòi hỏi *phương án khôi phục phải được thực hiện với ít đường ống được lắp thêm nhất*. Câu hỏi đặt ra: cần lắp thêm ít nhất bao nhiêu đường ống để hệ thống cấp nước có thể đưa nước đến từng ngôi nhà. Câu hỏi phụ: có bao nhiêu phương án khác nhau đáp ứng yêu cầu; số phương án có thể khá lớn nên chỉ cần đưa ra số dư khi chia cho $10^{9}$+7.\n",
    "\n",
    "*Dữ liệu :* Vào từ thiết bị nhập chuẩn :\n",
    "- Dòng đầu tiên chứa 2 số nguyên ***N, M*** (1 ≤ ***N, M***  ≤ $10^{5}$)\n",
    "- Mỗi dòng trong ***M*** dòng tiếp theo chứa 2 số nguyên ***a, b*** (1 ≤ ***a,  b*** ≤ ***N***). cho biết vẫn còn đường ống nối nhà ***a*** với nhà ***b***\n",
    "\n",
    "*Kết quả :* Đưa ra thiết bị xuất chuẩn số đường ống cần được lắp thêm và số phương án đáp ứng yêu cầu (theo mô đun $10^{9}$+7.) mỗi số trên một dòng.\n",
    "\n",
    "*Dữ liệu mẫu :*\n",
    "\n",
    "| INPUT | OUTPUT |\n",
    "|---|---| \n",
    "|3 1| 1 |\n",
    "|1 2| 2 |"
   ],
   "cell_type": "markdown",
   "metadata": {}
  }
 ]
}