{
 "cells": [
  {
   "cell_type": "markdown",
   "metadata": {},
   "source": [
    "# Đề bài\n",
    "**H_Index (1s, 100MB)**\n",
    "\n",
    "Làm thế nào để đánh giá sự thành công của một nhà khoa học?  Dựa vào số bài báo được công bố hay dựa vào số lần một bài báo được trích dẫn tới ở công trình của những người khác? Cả hai tham số đó đều quan trọng.\n",
    "\n",
    "Một bài báo có điểm số trích dẫn là c nếu nó được trích dẫn tới c lần trong các công trình của những nhà khoa học khác. Một trong số các cách đánh giá sự thành công của một nhà khoa học là tính chỉ số ảnh hưởng H_Index dựa trên sự kết hợp giữa số lượng bài báo và chỉ số trích dẫn của các bài báo đó.\n",
    "\n",
    "Chỉ số H_Index của một nhà khoa học bằng k lớn nhất nếu người đó có k bài báo, mỗi bài có điểm số trích dẫn không nhỏ hơn k. Ví dụ, một người có 10 bài báo, mỗi bài báo được trích dẫn không dưới 10 lần thì H_Index của người đó ít nhất là bằng 10.\n",
    "\n",
    "Một người có n bài báo, bài báo thứ i có điểm trích dẫn là ci, i = 1 ÷ n. Hãy xác định H_Index của người đó.\n",
    "\n",
    "1. Dữ liệu: Vào từ thiết bị nhập chuẩn:\n",
    "- Dòng đầu tiên chứa một số nguyên $n$ (1 ≤ n ≤ 5×105),\n",
    "- Dòng thứ 2 chứa n số nguyên c1, c2, . . ., cn (0 ≤ ci ≤ 106, i = 1 ÷ n).\n",
    "2. Kết quả: Đưa ra thiết bị xuất chuẩn **một số nguyên** – H_Index tìm được.\n",
    "\n",
    "Ví dụ:\n",
    "Input:\n",
    "* 5\n",
    "* 8 5 3 4 10\n",
    "\n",
    "Output:\n",
    "* 4\n",
    "---\n",
    "# 1.Abstraction\n",
    "| Bài báo | Điểm trích dẫn  | Ghi chú  |\n",
    "|---|---|---|\n",
    "|  1 | 10  |   |\n",
    "|  2 |  8 |   |\n",
    "|  3 |  5 |   |\n",
    "| 4  | 4  | |\n",
    "|5   | 3 | cut off |\n",
    "\n",
    "Text\n",
    "\n",
    "---\n",
    "# 2.Pattern Recognization\n",
    "---\n",
    "# 3.Design algorithm\n",
    "\n",
    "1. Đầu tiên sắp xếp các giá trị $c_{i}$ (điểm trích dẫn) theo thứ tự giảm dần với `index` tương ứng $[1..n]$.\n",
    "2. So sánh các giá trị $c_{i}$ mới sắp xếp với số `index`, nếu tại vị trí `index` số điểm trích dẫn nhỏ hơn `index` thì giảm `k` 1 lần, với `k := n`\n",
    "```\n",
    "array = [c1 ,c2 ,c3, ... , cn]\n",
    "for index in range(n):\n",
    "      if index + 1 > array[index]:\n",
    "            k = k - 1\n",
    "```\n",
    "3. Số `H-index` chính bằng số `k` sau khi kết thúc vòng lặp.\n",
    "\n",
    "---\n",
    "\n",
    "# 4.Programming\n",
    "\n",
    "\n",
    "\n",
    " "
   ]
  },
  {
   "cell_type": "code",
   "execution_count": 1,
   "metadata": {},
   "outputs": [
    {
     "name": "stdout",
     "output_type": "stream",
     "text": [
      "5\n",
      "8 5 3 4 10\n",
      "4\n"
     ]
    }
   ],
   "source": [
    "def H_index():\n",
    "  k = n\n",
    "  s.sort(reverse=1)\n",
    "  for i in range(n):\n",
    "    if s[i] < i + 1:\n",
    "      k -= 1\n",
    "  return k\n",
    "\n",
    "n  = int(input())\n",
    "s = list(map(int, input().split()))\n",
    "print(H_index())"
   ]
  },
  {
   "cell_type": "code",
   "execution_count": null,
   "metadata": {},
   "outputs": [],
   "source": []
  }
 ],
 "metadata": {
  "kernelspec": {
   "display_name": "Python 3",
   "language": "python",
   "name": "python3"
  },
  "language_info": {
   "codemirror_mode": {
    "name": "ipython",
    "version": 3
   },
   "file_extension": ".py",
   "mimetype": "text/x-python",
   "name": "python",
   "nbconvert_exporter": "python",
   "pygments_lexer": "ipython3",
   "version": "3.7.4"
  }
 },
 "nbformat": 4,
 "nbformat_minor": 2
}
