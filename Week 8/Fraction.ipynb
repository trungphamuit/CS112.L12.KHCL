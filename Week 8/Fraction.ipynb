{
  "nbformat": 4,
  "nbformat_minor": 0,
  "metadata": {
    "language_info": {
      "codemirror_mode": {
        "name": "ipython",
        "version": 3
      },
      "file_extension": ".py",
      "mimetype": "text/x-python",
      "name": "python",
      "nbconvert_exporter": "python",
      "pygments_lexer": "ipython3",
      "version": "3.7.6-final"
    },
    "orig_nbformat": 2,
    "kernelspec": {
      "name": "python3",
      "display_name": "Python 3"
    },
    "colab": {
      "name": "Fraction.ipynb",
      "provenance": [],
      "include_colab_link": true
    }
  },
  "cells": [
    {
      "cell_type": "markdown",
      "metadata": {
        "id": "view-in-github",
        "colab_type": "text"
      },
      "source": [
        "<a href=\"https://colab.research.google.com/github/trungphamuit/CS112.L12.KHCL/blob/master/Week%208/Fraction.ipynb\" target=\"_parent\"><img src=\"https://colab.research.google.com/assets/colab-badge.svg\" alt=\"Open In Colab\"/></a>"
      ]
    },
    {
      "source": [
        "## ***PHÂN SỐ***\n",
        "\n",
        "Cho 2 phân số đúng và tối giản $\\frac{a}{b}$, $\\frac{c}{d}$. Mỗi phép biến đổi là tăng ***a*** và ***b*** lên 1, sau đó giản ước phân số nhận được.\n",
        "\n",
        "Hãy xác định sau bao nhiêu bước biến đổi từ phân số thứ nhất ban đầu nhận được phân số thứ 2 đã cho.\n",
        "\n",
        "***Dữ liệu:*** Vào từ thiết bị nhập chuẩn gồm 4 dòng, mỗi dòng chứa 1 số nguyên ***a***, ***b***, ***c***, ***d***, 0 < ***a*** < ***b*** ≤ $10^{5}$, 0 < ***c*** < ***d*** ≤ $10^{5}$, ***a*** và ***b*** nguyên tố cùng nhau, ***c*** và ***d*** nguyên tố cùng nhau $\\frac{a}{b}$, $\\frac{c}{d}$.\n",
        "\n",
        "***Kết quả:*** Đưa ra thiết bị xuất chuẩn số 0 nếu không có cách biến đổi hoặc một số nguyên – số lượng phép biến đổi.\n",
        "\n",
        "***Ví dụ:***\n",
        "\n",
        "| INPUT | OUTPUT |\n",
        "| --- | --- |\n",
        "|1 6 2 3 | 5 |\n",
        "\n",
        "---\n",
        "\n",
        "## ***1. Input và Output***\n",
        "\n",
        "### ***1. Input :***\n",
        "\n",
        "- a (Kiểu int): Tử số của phân số thứ 1 ($0 < a ≤ 10^{5}$)\n",
        "\n",
        "- b (Kiểu int): Mẫu số của phân số thứ 1 ($0 < a < b ≤ 10^{5}$)\n",
        "\n",
        "- c (Kiểu int): Tử số của phân số thứ 2 ($0 < c ≤ 10^{5}, c != a$)\n",
        "    \n",
        "- d (Kiểu int): Mẫu số của phân số thứ 2 ($0 < c < d ≤ 10^{5}, d != b$)\n",
        "\n",
        "### ***2. Output :***\n",
        "\n",
        "- Số lượng phép biến đổi ( Kiểu int ), số lượng = 0 khi không có cách biến đổi nào. \n",
        "\n",
        "## ***2. Abstraction***\n",
        "\n",
        "- Đếm số lần biến đổi của phân số thứ nhất sao cho phân số thứ nhất bằng phân số thứ hai.\n",
        "\n",
        "## ***3. Pattern recognition***\n",
        "- Số học, so sánh và tìm UCLN\n",
        "\n",
        "## ***4.Algorithm design***\n",
        "\n",
        "  ### ***1. Idea***\n",
        "\n",
        "    . Sau mỗi lần lặp ta kiểm tra xem phân số thứ nhất và thứ hai có bằng nhau không. \n",
        "\n",
        "    . Nếu a và b chưa tối giản thì ta sẽ chia a và b cho ước số chung lớn nhất. Sau đó kiểm tra xem 2 phân số bằng nhau chưa, nếu chưa thì tiếp tục lặp.\n",
        "  ### ***2. Pseudocode***\n",
        "    . Khởi tạo biến đếm count = 0\n",
        "    . Vòng lặp : \n",
        "        1. while a*d <= b*c ( Vòng lặp vẫn tiếp tục lặp cho đến khi mà a*d <= c*d )\n",
        "          1.1. Cộng thêm 1 cho a và b\n",
        "          1.2. Tìm UCLN của a và b\n",
        "          1.3. Chia a và b cho UCLN vừa tìm được và lấy phần nguyên của kết quả phép chia\n",
        "          1.4. Tăng biến đếm lên 1\n",
        "          1.5. Nếu a bằng c và b = d thì in ra số lần biến đổi và kết thúc vòng lặp\n",
        "    . Nếu mà a*d > b*c thì count sẽ bằng 0\n",
        "## ***5.Code***\n",
        "\n"
      ],
      "cell_type": "markdown",
      "metadata": {
        "id": "TMp1lg1dj0Hy"
      }
    },
    {
      "cell_type": "code",
      "metadata": {
        "id": "B6DYkdIIj0H0"
      },
      "source": [
        "import sys \n",
        "import math\n",
        "\n",
        "a = int(input())\n",
        "b = int(input())\n",
        "c = int(input())\n",
        "d = int(input())\n",
        "count = 0\n",
        "\n",
        "while a*d <= b*c:\n",
        "    a,b = a+1,b+1\n",
        "    g = math.gcd(a, b)\n",
        "    a,b = a//g, b//g\n",
        "    count += 1\n",
        "    if a == c and b == d:\n",
        "      print(count)\n",
        "      sys.exit()\n",
        "\n",
        "print(0)"
      ],
      "execution_count": null,
      "outputs": []
    },
    {
      "cell_type": "code",
      "metadata": {
        "id": "wF-DYAaBj0H9"
      },
      "source": [
        "1 6 2 3\n",
        "5"
      ],
      "execution_count": null,
      "outputs": []
    }
  ]
}