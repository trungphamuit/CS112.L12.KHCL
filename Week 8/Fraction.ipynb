{
 "metadata": {
  "language_info": {
   "codemirror_mode": {
    "name": "ipython",
    "version": 3
   },
   "file_extension": ".py",
   "mimetype": "text/x-python",
   "name": "python",
   "nbconvert_exporter": "python",
   "pygments_lexer": "ipython3",
   "version": "3.7.6-final"
  },
  "orig_nbformat": 2,
  "kernelspec": {
   "name": "python3",
   "display_name": "Python 3"
  }
 },
 "nbformat": 4,
 "nbformat_minor": 2,
 "cells": [
  {
   "source": [
    "## ***PHÂN SỐ***\n",
    "\n",
    "Cho 2 phân số đúng và tối giản $\\frac{a}{b}$, $\\frac{c}{d}$. Mỗi phép biến đổi là tăng ***a*** và ***b*** lên 1, sau đó giản ước phân số nhận được.\n",
    "\n",
    "Hãy xác định sau bao nhiêu bước biến đổi từ phân số thứ nhất ban đầu nhận được phân số thứ 2 đã cho.\n",
    "\n",
    "***Dữ liệu:*** Vào từ thiết bị nhập chuẩn gồm 4 dòng, mỗi dòng chứa 1 số nguyên ***a***, ***b***, ***c***, ***d***, 0 < ***a*** < ***b*** ≤ $10^{5}$, 0 < ***c*** < ***d*** ≤ $10^{5}$, ***a*** và ***b*** nguyên tố cùng nhau, ***c*** và ***d*** nguyên tố cùng nhau $\\frac{a}{b}$, $\\frac{c}{d}$.\n",
    "\n",
    "***Kết quả:*** Đưa ra thiết bị xuất chuẩn số 0 nếu không có cách biến đổi hoặc một số nguyên – số lượng phép biến đổi.\n",
    "\n",
    "***Ví dụ:***\n",
    "\n",
    "| INPUT | OUTPUT |\n",
    "| --- | --- |\n",
    "|1 6 2 3 | 5 |\n",
    "\n",
    "---\n",
    "\n",
    "## ***1. Input và Output***\n",
    "\n",
    "1. Input :\n",
    "\n",
    "    . a (Kiểu int): Tử số của phân số thứ 1 ($0 < a ≤ 10^{5}$)\n",
    "\n",
    "    . b (Kiểu int): Mẫu số của phân số thứ 1 ($0 < a < b ≤ 10^{5}$)\n",
    "\n",
    "    . c (Kiểu int): Tử số của phân số thứ 2 ($0 < c ≤ 10^{5}, c != a$)\n",
    "    \n",
    "    . d (Kiểu int): Mẫu số của phân số thứ 2 ($0 < c < d ≤ 10^{5}, d != b$)\n",
    "\n",
    "2. Output :\n",
    "\n",
    "    . Số lượng phép biến đổi ( Kiểu int ), số lượng = 0 khi không có cách biến đổi nào. \n",
    "\n",
    "## ***2. Abstraction***\n",
    "\n",
    "Đếm số lần biến đổi của phân số thứ nhất sao cho phân số thứ nhát bằng phân số thứ hai.\n",
    "\n",
    "## ***3. Pattern recognition***\n",
    "\n",
    "## ***4.Algorithm design***\n",
    "\n",
    "1. Idea\n",
    "\n",
    "    . Sau mỗi lần lặp ta kiểm tra xem phân số thứ nhất và thứ hai có bằng nhau không. \n",
    "\n",
    "2. Pseudocode\n",
    "\n",
    "\n",
    "\n",
    "## ***5.Code***\n",
    "\n"
   ],
   "cell_type": "markdown",
   "metadata": {}
  },
  {
   "cell_type": "code",
   "execution_count": null,
   "metadata": {},
   "outputs": [],
   "source": [
    "import sys \n",
    "import math\n",
    "\n",
    "a, b, c, d = (int(input()) for _ in range(4))\n",
    "res = 0\n",
    "\n",
    "\n",
    "while a*d <= b*c:\n",
    "    a,b = a+1,b+1\n",
    "    g = math.gcd(a, b)\n",
    "    a,b = a//g, b//g\n",
    "    res += 1\n",
    "    if a == c and b == d:\n",
    "      print(res)\n",
    "      sys.exit()\n",
    "\n",
    "print(0)"
   ]
  },
  {
   "cell_type": "code",
   "execution_count": null,
   "metadata": {},
   "outputs": [],
   "source": [
    "1 6 2 3\n",
    "5"
   ]
  }
 ]
}