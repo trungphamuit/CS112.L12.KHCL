{
 "metadata": {
  "language_info": {
   "codemirror_mode": {
    "name": "ipython",
    "version": 3
   },
   "file_extension": ".py",
   "mimetype": "text/x-python",
   "name": "python",
   "nbconvert_exporter": "python",
   "pygments_lexer": "ipython3",
   "version": 3
  },
  "orig_nbformat": 2
 },
 "nbformat": 4,
 "nbformat_minor": 2,
 "cells": [
  {
   "source": [
    "## ***PHÂN SỐ***\n",
    "\n",
    "Cho 2 phân số đúng và tối giản $\\frac{a}{b}$, $\\frac{c}{d}$. Mỗi phép biến đổi là tăng ***a*** và ***b*** lên 1, sau đó giản ước phân số nhận được.\n",
    "\n",
    "Hãy xác định sau bao nhiêu bước biến đổi từ phân số thứ nhất ban đầu nhận được phân số thứ 2 đã cho.\n",
    "\n",
    "***Dữ liệu:*** Vào từ thiết bị nhập chuẩn gồm 4 dòng, mỗi dòng chứa 1 số nguyên ***a***, ***b***, ***c***, ***d***, 0 < ***a*** < ***b*** ≤ $10^{5}$, 0 < ***c*** < ***d*** ≤ $10^{5}$, ***a*** và ***b*** nguyên tố cùng nhau, ***c*** và ***d*** nguyên tố cùng nhau $\\frac{a}{b}$, $\\frac{c}{d}$.\n",
    "\n",
    "***Kết quả:*** Đưa ra thiết bị xuất chuẩn số 0 nếu không có cách biến đổi hoặc một số nguyên – số lượng phép biến đổi.\n",
    "\n",
    "***Ví dụ:***\n",
    "\n",
    "| INPUT | OUTPUT |\n",
    "| --- | --- |\n",
    "|1 6 2 3 | 5 |\n"
   ],
   "cell_type": "markdown",
   "metadata": {}
  }
 ]
}