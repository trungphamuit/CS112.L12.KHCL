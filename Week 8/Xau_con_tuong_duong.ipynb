{
 "metadata": {
  "language_info": {
   "codemirror_mode": {
    "name": "ipython",
    "version": 3
   },
   "file_extension": ".py",
   "mimetype": "text/x-python",
   "name": "python",
   "nbconvert_exporter": "python",
   "pygments_lexer": "ipython3",
   "version": "3.7.6-final"
  },
  "orig_nbformat": 2,
  "kernelspec": {
   "name": "python3",
   "display_name": "Python 3"
  }
 },
 "nbformat": 4,
 "nbformat_minor": 2,
 "cells": [
  {
   "source": [
    "## ***XÂU CON TƯƠNG ĐƯƠNG (1s, 50M)***\n",
    "\n",
    "Cho xâu ***s*** chỉ chứa các ký tự la tinh thường độ dài ***n*** không quá  $10^{5}$. Ký hiệu $s[i..j]$ là xâu con các ký tự liên tiếp nhau của ***s*** từ vị trí ***i*** đến vị trí ***j***. Hai xâu con $x = s[a..b]$ và $y = s[c..d]$ được gọi là cùng một lớp tương đương nếu có cách đổi chỗ các ký tự trong một xâu để nhận được xâu kia. Các vị trí được đánh số từ 1 trở đi.\n",
    "\n",
    "Ví dụ với ***s*** = “abcbacaac”, $s[1..3]$ tương đương với $s[4..6]$, còn $s[1..3]$ không tương đương với $s[5..7]$.\n",
    "\n",
    "Cho ***q*** truy vấn, mỗi truy vấn là 4 số nguyên $a, b, c, d$ xác định các xâu con ***x*** và ***y***. Với mỗi truy vấn hãy xác định hai xâu con này có cùng một lớp tương đương hay không và đưa ra câu trả lời tương ứng “YES” hoặc “NO”.\n",
    "\n",
    "Dữ liệu: Vào từ thiết bị nhập chuẩn:\n",
    "\n",
    "\\. Dòng đầu tiên chứa xâu s,\n",
    "\n",
    "\\. Dòng thứ 2 chứa số nguyên q (1 ≤  q  ≤ 105),\n",
    "\n",
    "\\. Mỗi dòng trong q dòng tiếp theo chứa 4 số nguyên a, b, c, d (1 ≤ a ≤ b ≤ n, 1 ≤ c ≤ d ≤ n).\n",
    "\n",
    "Kết quả: Đưa ra thiết bị xuất chuẩn các câu trả lời xác định được cho mỗi truy vấn, mỗi câu trả lời trên một dòng.\n",
    "\n",
    "Dữ liệu mẫu:\n",
    "\n",
    "| INPUT | OUTPUT |\n",
    "| --- | --- |\n",
    "| abcbacaac | YES |\n",
    "| 2 | NO |\n",
    "| 1 3 4 6 | |\n",
    "| 1 3 5 7 | |"
   ],
   "cell_type": "markdown",
   "metadata": {}
  }
 ]
}