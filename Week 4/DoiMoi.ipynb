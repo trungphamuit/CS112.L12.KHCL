{
  "nbformat": 4,
  "nbformat_minor": 0,
  "metadata": {
    "colab": {
      "name": "DoiMoi.ipynb",
      "provenance": [],
      "collapsed_sections": [],
      "include_colab_link": true
    },
    "kernelspec": {
      "name": "python3",
      "display_name": "Python 3"
    }
  },
  "cells": [
    {
      "cell_type": "markdown",
      "metadata": {
        "id": "view-in-github",
        "colab_type": "text"
      },
      "source": [
        "<a href=\"https://colab.research.google.com/github/trungphamuit/CS112.L12.KHCL/blob/master/Week%204/DoiMoi.ipynb\" target=\"_parent\"><img src=\"https://colab.research.google.com/assets/colab-badge.svg\" alt=\"Open In Colab\"/></a>"
      ]
    },
    {
      "cell_type": "markdown",
      "metadata": {
        "id": "9CAkQmTIjpII"
      },
      "source": [
        "## **ĐỔI MỚI**\n",
        "\n",
        "Thành phố quyết định chặt hạ hết n cây xanh hiện có trong thành phố để trồng chỉ một loại cây mới. Nhiệm vụ được giao cho Công ty Cây xanh thành phố. Do hạn chế về thiết bị Công ty chỉ tổ chức được 2 đội đốn hạ cây. Đội I hạ được a cây mỗi ngày, nhưng cứ mối ngày thứ k thì phải nghỉ để bảo dưỡng kỹ thuật, tức là đội I sẽ nghỉ vào các ngày k, 2k, 3k, . . . Đội II hạ được b cây mỗi ngày, nhưng cứ mỗi ngày thứ m thì phải nghỉ để bảo dưỡng kỹ thuật, tức là đội II sẽ nghỉ vào các ngày m, 2m, 3m, . . . Ở ngày nghỉ, số cây chặt hạ của đội sẽ là 0. Cả hai đội bắt đầu công việc vào cùng một ngày và làm việc song song với nhau.\n",
        "\n",
        "Công việc trồng cây mới sẽ bắt đầu sau khi toàn bộ cây cũ đã bị đốn hạ.\n",
        "\n",
        "Hãy xác định sau bao nhiêu ngày thì có thể bắt đầu việc trồng mới cây.\n",
        "\n",
        "**Dữ liệu:** Vào từ thiết bị nhập chuẩn gồm một dòng chứa 5 số nguyên **a, k, b, m** và **n** (1 ≤ **a, b** ≤ $10^{9}$, 2 ≤ **k, m** ≤ $10^{18}$, 1 ≤ **n** ≤ $10^{18}$).\n",
        "\n",
        "**Kết quả:** Đưa ra thiết bị xuất chuẩn một số nguyên – số ngày tính được.\n",
        "\n",
        "**Ví dụ:**\n",
        "\n",
        "| Input | Output |\n",
        "|---|---|\n",
        "|2 4 3 3 25| 7|\n",
        "\n",
        "# 1. Abstraction\n",
        "Tính số ngày ít nhất để đốn hạ $n$ cây.\n",
        "\n",
        "# 2. Decomposition\n",
        "Bài toàn được chia thành 2 phần:\n",
        " - Tính số lượng cây được đốn hạ trong $i$ ngày.\n",
        " - Tìm ngày ít nhất để Tree($i)$ ≥ n (Với Tree($i$) là hàm tính số lượng cây trong $i$ ngày).\n",
        "\n",
        "# 3. Pattern Recognization\n",
        "Tìm kiếm nhị phân (Binary Search)\n",
        "\n",
        "# 4. Algorithm designed\n",
        "1. Dữ liệu đầu vào (input):\n",
        " - $a$ : Số cây đội $I$ đốn hạ trong 1 ngày ($1 ≤ a ≤ 10^{9}$)\n",
        " - $k$ : Đội $I$ nghỉ vào các ngày $k$, $2k$, $3k$, ... ($2 ≤ k ≤ 10^{18}$)\n",
        " - $b$ : Số cây đội $II$ đốn hạ trong 1 ngày ($1 ≤ b ≤ 10^{9}$)\n",
        " - $m$ : Đội $II$ nghỉ vào các ngày $m$, $2m$, $3m$, ... ($2 ≤ k ≤ 10^{18}$)\n",
        " - $n$ : Số lượng cây cần đốn hạ ($1 ≤ n ≤ 10^{18}$)\n",
        "2. Dữ liệu đầu ra (ouput):\n",
        "  - $result$ : Số ngày ít nhất (kiểu dữ liệu: Integer)\n",
        "\n",
        "3. **Tính số lượng cây đốn hạ trong $i$ ngày**:\n",
        " - Gọi $S$ là tổng số cây đốn hạ trong $i$ ngày.\n",
        " - Đầu tiên, ta thấy tổng số cây cả 2 đội đốn hạ trong 1 ngày là $(a+b)$ nên $S = i*(a + b)$.\n",
        " - Vào các ngày nghỉ thì số cây đốn hạ của mỗi đội là 0 nên $S = S -a* (\\frac{i}{k}) - b*(\\frac{i}{m})$\n",
        "\n",
        "Vậy, công thức chính của chúng ta là: $ S = i * ((a*(1 - \\frac{1}{k}) + b*(1 - \\frac{1}{m}))$\n",
        "\n",
        "\n",
        "4. **Sử dụng Tìm kiếm nhị phân để tìm số ngày nhỏ nhất ($i_{min})$:**\n",
        "```\n",
        "left = 0\n",
        "right = n\n",
        "result = n\n",
        "while (left <= right):\n",
        "      mid = (left + right) // 2\n",
        "      if Tree(mid) >= n:\n",
        "        right = mid - 1\n",
        "        res = mid\n",
        "      else:\n",
        "        left = mid + 1\n",
        "```\n",
        "Kết quả trả về là $result$.\n",
        "\n",
        "# 5. Programming"
      ]
    },
    {
      "cell_type": "code",
      "metadata": {
        "id": "GxK8NTbekVxW"
      },
      "source": [
        ""
      ],
      "execution_count": null,
      "outputs": []
    }
  ]
}