{
  "nbformat": 4,
  "nbformat_minor": 0,
  "metadata": {
    "colab": {
      "name": "DoiMoi.ipynb",
      "provenance": [],
      "collapsed_sections": [],
      "authorship_tag": "ABX9TyPFJScbG956jctwmiA0+ga2",
      "include_colab_link": true
    },
    "kernelspec": {
      "name": "python3",
      "display_name": "Python 3"
    }
  },
  "cells": [
    {
      "cell_type": "markdown",
      "metadata": {
        "id": "view-in-github",
        "colab_type": "text"
      },
      "source": [
        "<a href=\"https://colab.research.google.com/github/trungphamuit/CS112.L12.KHCL/blob/master/Week%204/DoiMoi.ipynb\" target=\"_parent\"><img src=\"https://colab.research.google.com/assets/colab-badge.svg\" alt=\"Open In Colab\"/></a>"
      ]
    },
    {
      "cell_type": "markdown",
      "metadata": {
        "id": "9CAkQmTIjpII"
      },
      "source": [
        "**ĐỔI MỚI**\n",
        "\n",
        "Thành phố quyết định chặt hạ hết n cây xanh hiện có trong thành phố để trồng chỉ một loại cây mới. Nhiệm vụ được giao cho Công ty Cây xanh thành phố. Do hạn chế về thiết bị Công ty chỉ tổ chức được 2 đội đốn hạ cây. Đội I hạ được a cây mỗi ngày, nhưng cứ mối ngày thứ k thì phải nghỉ để bảo dưỡng kỹ thuật, tức là đội I sẽ nghỉ vào các ngày k, 2k, 3k, . . . Đội II hạ được b cây mỗi ngày, nhưng cứ mỗi ngày thứ m thì phải nghỉ để bảo dưỡng kỹ thuật, tức là đội II sẽ nghỉ vào các ngày m, 2m, 3m, . . . Ở ngày nghỉ, số cây chặt hạ của đội sẽ là 0. Cả hai đội bắt đầu công việc vào cùng một ngày và làm việc song song với nhau.\n",
        "\n",
        "Công việc trồng cây mới sẽ bắt đầu sau khi toàn bộ cây cũ đã bị đốn hạ.\n",
        "\n",
        "Hãy xác định sau bao nhiêu ngày thì có thể bắt đầu việc trồng mới cây.\n",
        "\n",
        "**Dữ liệu:** Vào từ thiết bị nhập chuẩn gồm một dòng chứa 5 số nguyên a, k, b, m và n (1 ≤ a, b ≤ 109, 2 ≤ k, m ≤ 1018, 1 ≤ n ≤ 1018).\n",
        "\n",
        "**Kết quả:** Đưa ra thiết bị xuất chuẩn một số nguyên – số ngày tính được.\n",
        "\n",
        "**Ví dụ:**\n",
        "\n",
        "| Input | Output |\n",
        "|---|---|\n",
        "|2 4 3 3 25| 7|\n",
        "\n",
        "# 1. Abstraction\n",
        "- Tính số ngày ít nhất để đốn hạ $n$ cây.\n",
        "\n",
        "# 2. Decomposition\n",
        "- Bài toàn được chia thành 2 phần:\n",
        " - Tính số lượng cây được đốn hạ trong $x$ ngày.\n",
        " - Tìm ngày ít nhất để Tree($x)$ ≥ n (Với Tree($x$) là hàm tính số lượng cây trong $x$ ngày).\n",
        "\n",
        "# 3. Pattern Recognization\n",
        "- Tìm kiếm nhị phân (Binary Search)\n",
        "\n",
        "# 4. Algorithm designed\n",
        "\n",
        "- Done\n",
        "\n",
        "# 5. Programming\n",
        "- Done"
      ]
    },
    {
      "cell_type": "code",
      "metadata": {
        "id": "GxK8NTbekVxW"
      },
      "source": [
        ""
      ],
      "execution_count": null,
      "outputs": []
    }
  ]
}