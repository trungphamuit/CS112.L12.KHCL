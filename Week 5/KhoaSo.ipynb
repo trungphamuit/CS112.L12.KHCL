{
  "nbformat": 4,
  "nbformat_minor": 0,
  "metadata": {
    "language_info": {
      "codemirror_mode": {
        "name": "ipython",
        "version": 3
      },
      "file_extension": ".py",
      "mimetype": "text/x-python",
      "name": "python",
      "nbconvert_exporter": "python",
      "pygments_lexer": "ipython3",
      "version": 3
    },
    "orig_nbformat": 2,
    "colab": {
      "name": "KhoaSo.ipynb",
      "provenance": [],
      "include_colab_link": true
    }
  },
  "cells": [
    {
      "cell_type": "markdown",
      "metadata": {
        "id": "view-in-github",
        "colab_type": "text"
      },
      "source": [
        "<a href=\"https://colab.research.google.com/github/trungphamuit/CS112.L12.KHCL/blob/master/Week%205/KhoaSo.ipynb\" target=\"_parent\"><img src=\"https://colab.research.google.com/assets/colab-badge.svg\" alt=\"Open In Colab\"/></a>"
      ]
    },
    {
      "cell_type": "markdown",
      "metadata": {
        "id": "OtQpfqacC6ef"
      },
      "source": [
        "## KHÓA SỐ (0.15s, 100MB)\n",
        "\n",
        "Để tăng độ an toàn chống hiện tượng cướp ngân hàng ngày càng phổ biến người ta dùng khóa số với mã mở khóa đơn giản nhưng rất hiệu quả. Trên cửa ra vào hiển thị một xâu khá dài các ký tự số. Các chữ số có thể di chuyển đổi chổ cho nhau hoặc bị xóa. Muốn mở khóa người ta phải di chuyển các chữ số và trong trường hợp cần thiết – xóa vài chữ số để nhận được xâu lớn nhất thỏa mãn điều kiện đã cài đặt. Điều kiện này được thay đổi thường xuyên. Hôm nay điều kiện đó là “Số nhận được phải chia hết cho 3”. Số nhận được có thể bắt đầu bằng các chữ số 0. Xâu “000” sẽ lớn hơn xâu “00”.\n",
        "\n",
        "Hãy xác định khóa mở cửa.\n",
        "\n",
        "***Dữ liệu :*** Vào từ thiết bị nhập chuẩn gồm một xâu ký tự số có độ dài lớn hơn 2 và không vượt quá $10^{5}$.\n",
        "\n",
        "***Kết quả :*** Đưa ra thiết bị xuất chuẩn xâu khóa mở cửa.\n",
        "\n",
        "***Ví dụ :***\n",
        "\n",
        "| **Input** | **OutPut** |\n",
        "|---|---|\n",
        "| 105 | 510 |\n",
        "\n",
        "# **Abstraction**\n",
        " Tìm số lớn nhất chia hết cho 3.\n",
        "\n",
        "# **Decomposition**\n",
        "\n",
        "Để tìm được số lớn nhất từ chuỗi nhập vào, ta cần thực hiện 2 bước:\n",
        "- Sắp xếp theo thứ tự giảm dần chuỗi số.\n",
        "- Xoá cần thiết các số để kết quả nhận được là một số chia hết cho 3.\n",
        "\n",
        "# **Pattern Recognization**\n",
        "\n",
        "\n",
        "\n",
        "# **Algorithm Designed**\n",
        "\n",
        "\n",
        "# **Programming**"
      ]
    }
  ]
}