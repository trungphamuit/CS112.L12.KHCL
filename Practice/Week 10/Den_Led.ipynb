{
  "nbformat": 4,
  "nbformat_minor": 0,
  "metadata": {
    "language_info": {
      "codemirror_mode": {
        "name": "ipython",
        "version": 3
      },
      "file_extension": ".py",
      "mimetype": "text/x-python",
      "name": "python",
      "nbconvert_exporter": "python",
      "pygments_lexer": "ipython3",
      "version": "3.7.6-final"
    },
    "orig_nbformat": 2,
    "kernelspec": {
      "name": "python3",
      "display_name": "Python 3"
    },
    "colab": {
      "name": "Den_Led.ipynb",
      "provenance": [],
      "include_colab_link": true
    }
  },
  "cells": [
    {
      "cell_type": "markdown",
      "metadata": {
        "id": "view-in-github",
        "colab_type": "text"
      },
      "source": [
        "<a href=\"https://colab.research.google.com/github/trungphamuit/CS112.L12.KHCL/blob/master/Week%2010/Den_Led.ipynb\" target=\"_parent\"><img src=\"https://colab.research.google.com/assets/colab-badge.svg\" alt=\"Open In Colab\"/></a>"
      ]
    },
    {
      "cell_type": "markdown",
      "metadata": {
        "id": "F7IZyL_IGEMT"
      },
      "source": [
        "## ***ĐÈN LED***\n",
        "\n",
        "Alice vừa hoàn thành một hợp đồng lắp bảng hiển thị số bằng đèn LED. Mỗi chữ số được hiển thị trong một khung chữ nhật với 7 ống đèn LED. Bằng cách bật các ống đèn LED thích hợp ta có thể hiển thị chữ số bất kỳ. Số đèn sáng càng nhiều thì việc hiển thị chữ số đó càng tốn năng lượng. Ví dụ, hiển thị chữ số 9 sẽ tốn năng lượng hơn hiển thị chữ số 7.\n",
        "\n",
        "![tải xuống](https://user-images.githubusercontent.com/62895829/101302121-5e52af80-386d-11eb-9d20-829b2a171bd3.png)\n",
        "\n",
        "Sau khi bàn giao sản phẩm trong tay Alice còn thừa lại một số khá nhiều các khung hiển thị số và một cục pin nguồn. Dung lượng pin cho phép bật sáng ***n*** ống đèn LED. Alice muốn dùng pin bật đúng ***n*** ống đèn để hiển thị một số và số hiển thị được phải có tổng chữ số là lớn nhất.\n",
        "\n",
        "Hãy xác định tổng lớn nhất của các chữ số của số có thể bật sáng.\n",
        "\n",
        "***Dữ liệu:*** Vào từ thiết bị nhập chuẩn gồm một dòng chứa số nguyên n ($2 ≤ n ≤ 10^{6}$).\n",
        "\n",
        "***Kết quả:*** Đưa ra thiết bị xuất chuẩn một số nguyên – tổng lớn nhất đạt được.\n",
        "\n",
        "***Ví dụ:***\n",
        "\n",
        "| INPUT | OUTPUT |\n",
        "|---|---|\n",
        "| 7 | 11 |\n",
        "\n",
        "## ***Input***\n",
        "\n",
        "***n :*** Kiểu int, biểu diễn cho số ống đèn LED ($2 ≤ n ≤ 10^{6}$).\n",
        "\n",
        "## ***Output***\n",
        "\n",
        "Trả về kết quả là 1 số nguyên ( kiểu int ) : Tổng lớn nhất của các chữ số được bật sáng lên từ ***n*** ống đèn LED.\n",
        "\n",
        "## ***Abstraction***\n",
        "\n",
        "> Tính tổng số lớn nhất từ các số tạo bởi **n** ống đèn LED.\n",
        "\n",
        "## ***Pattern recognition***\n",
        "\n",
        "> Toán học\n",
        "\n",
        "## ***Algorithm design***\n",
        "\n",
        "### ***Idea 1***\n",
        "\n",
        ". Đầu tiên,chúng ta cần xác định ứng với mỗi ống đèn LED sáng thì chúng ta có thể thu được những chữ số nào từ 0 - 9.\n",
        "\n",
        "| ***Số ống*** | ***Chữ số*** |\n",
        "| --- | --- |\n",
        "| 1 | Không có |\n",
        "| 2 | 1 |\n",
        "| 3 | 7 |\n",
        "| 4 | 4 |\n",
        "| 5 | 2, 3, 5 |\n",
        "| 6 | 0, 6, 9 |\n",
        "| 7 | 8 |\n",
        "| 8 | Không có |\n",
        "| 9 | Không có |\n",
        "\n",
        "\n",
        "\n",
        ". Dựa vào bảng trên chúng ta có thể đưa ra 1 vài nhận xét như sau :\n",
        "\n",
        "    . Với 2 ống đèn LED sáng thì chúng ta chỉ có thể hiển thị được chữ số 1.\n",
        "\n",
        "    . Với 3 ống đèn LED sáng thì chúng ta chỉ có thể hiển thị được chữ số 7.\n",
        "\n",
        "    . Với 4 ống đèn LED sáng thì chúng ta chỉ có thể hiển thị được chữ số 4.\n",
        "\n",
        "    . Với 5 ống đèn LED sáng thì chúng ta có thể hiển thị được các chữ số là 2, 3, 5 và ở đây ta sẽ chọn số lớn nhất là 5. Nhưng với 5 ống đèn LED sáng chúng ta có thể phân tích được thành là 2 ống đèn LED sáng và 3 ống đèn LED sáng. Từ đó ta sẽ được tổng lớn nhất là 7 + 1 = 8 => Kết quả này lớn hơn kết quả ban đầu là 5.\n",
        "\n",
        "    . Với 6 ống đèn LED sáng thì chúng ta có thể hiển thị được các chữ số là 0, 6, 9 và ở đây ta sẽ chọn số lớn nhất là 9. Nhưng với 6 ống đèn LED sáng chúng ta có thể phân tích được thành là 3 ống đèn LED sáng và 3 ống đèn LED sáng. Từ đó ta sẽ được tổng lớn nhất là 7 + 7 = 14 => Kết quả này lớn hơn kết quả ban đầu là 9.\n",
        "    \n",
        "    . Với 7 ống đèn LED sáng thì chúng ta chỉ có thể hiển thị được chữ số 8. Nhưng với 7 ống đèn LED sáng chúng ta có thể phân tích được thành là 3 ống đèn LED sáng và 4 ống đèn LED sáng . Từ đó ta sẽ được tổng lớn nhất là 7 + 4 = 11 => Kết quả này lớn hơn kết quả ban đầu là 8.\n",
        "\n",
        ". Theo như những nhận xét ở trên, chúng ta có thể rút gọn lại ý tưởng chính của bài toán này là như sau :\n",
        "\n",
        "    Chỉ cần số ống đèn LED chia hết cho 3 thì sẽ ra tổng kết quả lớn nhất mà chúng ta có thể tìm được. Nếu chia còn dư 2 thì ta chỉ cần cộng thêm 1. Nếu chia còn dư 1 thì ta chỉ cần lấy thương (thương lấy phần nguyên) trừ đi 1 và cộng thêm 4.\n",
        "\n",
        "### ***Idea 2 (bổ sung)***\n",
        "\n",
        "![CHART](https://i.imgur.com/Lar8opw.png)\n",
        "\n",
        "> Theo yêu cầu đề bài, chúng ta cần tìm các số sao cho số lượng ống đèn sử dụng **thấp** nhưng giá trị của nó **cao**.<br> Từ biểu đồ, ta có thể chọn giá trị **7** (W = **3**) là giá trị thoả mãn nhất. <br> Vấn đề tiếp theo là chọn các số tiếp theo phù hợp trong các trường hợp sau:\n",
        "\n",
        "|Số ống dư|Số tạo thành|\n",
        "|--|--|\n",
        "|1| Không|\n",
        "|2| 1|\n",
        "\n",
        "> Ta có thể thấy ở trường hợp dư 1 thì không có số tạo thành, để xử lý phần dư ta cần giảm 1 số **7** (phần dư sẽ thành **4**) và cộng **4** cho OUTPUT.\n",
        "\n",
        "## ***Pseudocode***\n",
        "\n",
        ". Gán res = 0 ( Tổng lớn nhất) \n",
        "\n",
        ". Gán x = thương lấy phần nguyên của phép chia cho 3\n",
        "\n",
        ". Gán y = phép chia lấy dư cho 3\n",
        "\n",
        ". Nếu y mà bằng 0 : Thì ta trả kết quả bằng  res = res + (x*7)\n",
        "\n",
        ". Nếu y mà bằng 1 : Thì ta trả kết quả bằng  res = res + (x-1)*7 + 4\n",
        "\n",
        ". Nếu y mà bằng 2 : Thì ta trả kết quả bằng  res = res + (x*7) + 1\n",
        "\n",
        "## ***Code***"
      ]
    },
    {
      "cell_type": "code",
      "metadata": {
        "id": "JQHVRS53GEMY"
      },
      "source": [
        "n = int(input())\n",
        "res = 0\n",
        "x = int(n / 3)\n",
        "y = n % 3\n",
        "if y == 0:\n",
        "  res += x*7\n",
        "elif y == 1:\n",
        "  res += (x-1)*7 + 4\n",
        "elif y == 2:\n",
        "  res += x*7 + 1\n",
        "print(res)"
      ],
      "execution_count": null,
      "outputs": []
    },
    {
      "cell_type": "code",
      "metadata": {
        "id": "ExfXcWNlGEMa"
      },
      "source": [
        "7\n",
        "11"
      ],
      "execution_count": null,
      "outputs": []
    }
  ]
}
