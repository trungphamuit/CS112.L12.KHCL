{
  "nbformat": 4,
  "nbformat_minor": 0,
  "metadata": {
    "kernelspec": {
      "display_name": "Python 3",
      "language": "python",
      "name": "python3"
    },
    "language_info": {
      "codemirror_mode": {
        "name": "ipython",
        "version": 3
      },
      "file_extension": ".py",
      "mimetype": "text/x-python",
      "name": "python",
      "nbconvert_exporter": "python",
      "pygments_lexer": "ipython3",
      "version": "3.7.4"
    },
    "colab": {
      "name": "H_index.ipynb",
      "provenance": [],
      "include_colab_link": true
    }
  },
  "cells": [
    {
      "cell_type": "markdown",
      "metadata": {
        "id": "view-in-github",
        "colab_type": "text"
      },
      "source": [
        "<a href=\"https://colab.research.google.com/github/trungphamuit/CS112.L12.KHCL/blob/master/Week%203/H_index.ipynb\" target=\"_parent\"><img src=\"https://colab.research.google.com/assets/colab-badge.svg\" alt=\"Open In Colab\"/></a>"
      ]
    },
    {
      "source": [
        "# Đề bài\n",
        "**H_Index (1s, 100MB)**\n",
        "\n",
        "Làm thế nào để đánh giá sự thành công của một nhà khoa học?  Dựa vào số bài báo được công bố hay dựa vào số lần một bài báo được trích dẫn tới ở công trình của những người khác? Cả hai tham số đó đều quan trọng.\n",
        "\n",
        "Một bài báo có điểm số trích dẫn là **c** nếu nó được trích dẫn tới **c** lần trong các công trình của những nhà khoa học khác. Một trong số các cách đánh giá sự thành công của một nhà khoa học là tính chỉ số ảnh hưởng **H_Index** dựa trên sự kết hợp giữa số lượng bài báo và chỉ số trích dẫn của các bài báo đó.\n",
        "\n",
        "Chỉ số **H_Index** của một nhà khoa học bằng **k** lớn nhất nếu người đó có **k** bài báo, mỗi bài có điểm số trích dẫn không nhỏ hơn **k**. Ví dụ, một người có 10 bài báo, mỗi bài báo được trích dẫn không dưới 10 lần thì **H_Index** của người đó ít nhất là bằng 10.\n",
        "\n",
        "Một người có **n** bài báo, bài báo thứ **i** có điểm trích dẫn là **ci, i** = 1 ÷ **n**. Hãy xác định **H_Index** của người đó.\n",
        "\n",
        "1. **Dữ liệu**: Vào từ thiết bị nhập chuẩn:\n",
        "- Dòng đầu tiên chứa một số nguyên **n** (1 ≤ **n** ≤ 5×$10^{5}$),\n",
        "- Dòng thứ 2 chứa **n** số nguyên $c_1, c_2, . . ., c_n$ (0 ≤ **$c_i$** ≤ $10^{6}$, **i** = 1 ÷ **n**).\n",
        "2. **Kết quả**: Đưa ra thiết bị xuất chuẩn một số nguyên – **H_Index** tìm được.\n",
        "\n",
        "**Ví dụ**:\n",
        "\n",
        "| Input | Output |\n",
        "|---|---|\n",
        "|5| 4 |\n",
        "|8 5 3 4 10|  |\n",
        "\n",
        "---\n",
        "# 1.Abstraction\n",
        "| Bài báo | Số trích dẫn  | Ghi chú  |\n",
        "|---|---|---|\n",
        "|  1 | 10  |  |\n",
        "|  2 |  8 |   |\n",
        "|  3 |  5 |   |\n",
        "| 4  | 4  | |\n",
        "|5   | 3 | cut off (3 < 5) |\n",
        "\n",
        "- Tìm số **H-index** trong dãy có $n$ phần tử và mỗi phần tử lớn hơn hoặc bằng $n$.\n",
        "\n",
        "---\n",
        "# 2. Decomposition\n",
        "Số **H-index** dựa vào danh sách số lượng trích dẫn của mỗi bài báo theo thứ tự giảm dần. Giá trị **H-index** chính bằng số lượng bài báo $n$ mà mỗi bài báo có ít nhất $n$ điểm trích dẫn.\n",
        "Bài làm thực hiện với 2 bước:\n",
        "1. Đầu tiên sắp xếp các giá trị $c_{i}$ theo thứ tự giảm dần với `index` tương ứng $[1..n]$.\n",
        "2. So sánh các giá trị $c_{i}$ mới sắp xếp với số `index`, nếu tại vị trí `index` số điểm trích dẫn nhỏ hơn `index` thì giảm $k$ 1 lần.\n",
        "\n",
        "---\n",
        "# 3.Pattern Recognization\n",
        "\n",
        "- Thuật toán vét cạn (Brute Force)\n",
        "\n",
        "---\n",
        "# 4.Algorithm Designed\n",
        "- Input:\n",
        "  -  Dòng đầu tiên chứa một số nguyên $n$ (1 ≤ n ≤ 5×$10^{5}$),\n",
        "  - Dòng thứ 2 chứa $n$ số nguyên $c_1, c_2, . . ., c_n$ (0 ≤ $c_i$ ≤ $10^{6}$, i = 1 ÷ n).\n",
        "* Output: \n",
        "  - Đưa ra thiết bị xuất chuẩn **một số nguyên** – H_Index tìm được.\n",
        "* Biến khác được sử dụng: $k$ (là số H-index lớn nhất $=n$)\n",
        "\n",
        "* Giải thuật:\n",
        "\n",
        "```\n",
        "array = [c1 ,c2 ,c3, ... , cn]\n",
        "for index in range(n):\n",
        "      if index + 1 > array[index]:\n",
        "            k = k - 1\n",
        "```\n",
        "* Số **H-index** chính bằng số $k$ sau khi kết thúc vòng lặp.\n",
        "\n",
        "---\n",
        "\n",
        "# 5.Programming\n",
        "\n",
        "\n",
        "\n",
        " "
      ],
      "cell_type": "markdown",
      "metadata": {
        "id": "KtiKinr-rDTu"
      }
    },
    {
      "cell_type": "code",
      "metadata": {
        "id": "F4PzIi0JrDTw",
        "outputId": "bc6087fa-5c89-4470-b722-9bc885080761"
      },
      "source": [
        "def H_index():\n",
        "  k = n\n",
        "  s.sort(reverse=1)\n",
        "  for i in range(n):\n",
        "    if s[i] < i + 1:\n",
        "      k -= 1\n",
        "  return k\n",
        "\n",
        "n  = int(input())\n",
        "s = list(map(int, input().split()))\n",
        "print(H_index())"
      ],
      "execution_count": null,
      "outputs": [
        {
          "output_type": "stream",
          "text": [
            "5\n",
            "8 5 3 4 10\n",
            "4\n"
          ],
          "name": "stdout"
        }
      ]
    }
  ]
}
