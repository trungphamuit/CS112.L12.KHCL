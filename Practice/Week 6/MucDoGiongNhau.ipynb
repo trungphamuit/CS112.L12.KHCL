{
  "nbformat": 4,
  "nbformat_minor": 0,
  "metadata": {
    "orig_nbformat": 2,
    "colab": {
      "name": "MucDoGiongNhau.ipynb",
      "provenance": [],
      "include_colab_link": true
    },
    "kernelspec": {
      "name": "python3",
      "display_name": "Python 3"
    }
  },
  "cells": [
    {
      "cell_type": "markdown",
      "metadata": {
        "id": "view-in-github",
        "colab_type": "text"
      },
      "source": [
        "<a href=\"https://colab.research.google.com/github/trungphamuit/CS112.L12.KHCL/blob/master/Week%206/MucDoGiongNhau.ipynb\" target=\"_parent\"><img src=\"https://colab.research.google.com/assets/colab-badge.svg\" alt=\"Open In Colab\"/></a>"
      ]
    },
    {
      "cell_type": "markdown",
      "metadata": {
        "id": "o-MzbqyrgyRK"
      },
      "source": [
        "# ***MỨC ĐỘ GIỐNG NHAU (0.2S, 50MB)***\n",
        "\n",
        "Một quần thể sinh vật ngoài hành tinh có gene tạo thành từ 26 cơ sở ký hiệu từ ***A*** tới ***Z***. Mỗi gene là một xâu ký tự các chữ cái la tinh hoa. Hai cá thể khác nhau có gene khác nhau. Mức độ giống nhau của 2 gene sẽ xác định độ huyết thống của chúng.\n",
        "\n",
        "Độ giống nhau của gene thứ nhất đối với gene thứ 2 là số lượng cặp 2 cơ sở liên tiếp nhau trong gene thứ nhất đồng thời là cặp 2 cơ sở liên tiếp nhau trong gene thứ hai.\n",
        "\n",
        "![tải xuống](https://user-images.githubusercontent.com/62895829/96068309-e9df3e00-0ec5-11eb-8e87-61208b14024d.png)\n",
        "\n",
        "Ví dụ, gene thứ nhất là ***ABBACAB***, gene thứ 2 là ***BCABB*** thì mức độ giống nhau là 4.\n",
        "\n",
        "Cho hai gene. Hãy xác định mức độ giống nhau của gene thứ nhất với gene thứ 2.\n",
        "\n",
        "***Dữ liệu:*** Vào từ thiết bị nhập chuẩn bao gồm 2 dòng chứa 2 xâu khác rỗng xác định gene thứ nhất và gene thứ 2, mỗi xâu chỉ chứa các ký tự chữ cái in hoa và có độ dài không quá 105.\n",
        "\n",
        "***Kết quả:*** Đưa ra thiết bị xuất chuẩn một số nguyên – mức độ giống nhau của 2 genes.\n",
        "\n",
        "***Ví dụ:***\n",
        "\n",
        "| ***INPUT*** | ***OUTPUT*** |\n",
        "| --- | --- |\n",
        "| ***ABBACAB*** | 4 |\n",
        "| ***BCABB*** | |\n",
        "\n",
        "## 1. Abstraction\n",
        "Cho 2 chuỗi $A$ và $B$, tìm xem có bao nhiêu chuỗi con 2 phần tử liên tiếp của $A$ nằm trong $B$?\n",
        "\n",
        "## 2. Decomposition\n",
        "Bài toán được thực hiện theo 2 bước:\n",
        "- **Bước 1**: Tạo danh sách chuỗi con có độ dài bằng 2 của $B$.\n",
        "- **Bước 2**: Đếm số lượng chuỗi con thoả mãn đề bài thông qua duyệt từng chuỗi con có độ dài bằng 2 của $A$ xem có trong danh sách ở bước 1 hay không ?.\n",
        "\n",
        "## 3. Pattern Recognization\n",
        "Tìm số lượng cặp chuỗi con liên tiếp có trong chuỗi $A$ và $B$ thông qua **Tìm kiếm tuần tự**.\n",
        "\n",
        "## 4.  Algorithm Designed\n",
        "\n",
        "*Input*: $A$ : String , $B$ : String.\n",
        "\n",
        "*Output*: $result$ : Integer (Số lượng chuỗi con xuất hiện trong cả $A$ và $B$).\n",
        "\n",
        "```\n",
        "Function Sub_string(B):\n",
        "    dict ← Tạo 1 từ điển để lưu các giá trị chuỗi con\n",
        "    Loop\n",
        "      Thêm vào dict các chuỗi con liên tục \n",
        "    End loop\n",
        "\n",
        "Function Solve(A,dict):\n",
        "    result = 0 # Biến kết quả trả về\n",
        "    Loop\n",
        "      Nếu từng chuỗi con liên tục của A có trong dict:\n",
        "          Thì result = result + 1\n",
        "    End loop\n",
        "```\n",
        "Độ phức tạp thuật toán : $O(n)$\n",
        "\n",
        "## 5. Programming"
      ]
    },
    {
      "cell_type": "code",
      "metadata": {
        "id": "xcD9IBXzWur2",
        "outputId": "00144db4-c2f3-45e8-ad26-7e4d503143fe",
        "colab": {
          "base_uri": "https://localhost:8080/",
          "height": 68
        }
      },
      "source": [
        "def sub_string(x):\n",
        "  l = set()\n",
        "  for i in range(len(x)-1):\n",
        "    l.add(x[i:i+2])\n",
        "  return l\n",
        "\n",
        "def solve(x,l):\n",
        "  res = 0\n",
        "  for i in range(len(x)-1):\n",
        "    a = x[i:i+2]\n",
        "    if (a in l):\n",
        "      res +=1\n",
        "  return res\n",
        "\n",
        "string_1 = input().strip()\n",
        "string_2 = input().strip()\n",
        "l = sub_string(string_2)\n",
        "print(solve(string_1,l))"
      ],
      "execution_count": 6,
      "outputs": [
        {
          "output_type": "stream",
          "text": [
            "ABBACAB\n",
            "BCABB\n",
            "4\n"
          ],
          "name": "stdout"
        }
      ]
    }
  ]
}
