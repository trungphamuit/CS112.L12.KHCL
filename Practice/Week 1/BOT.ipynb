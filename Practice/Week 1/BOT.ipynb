{
 "metadata": {
  "language_info": {
   "codemirror_mode": {
    "name": "ipython",
    "version": 3
   },
   "file_extension": ".py",
   "mimetype": "text/x-python",
   "name": "python",
   "nbconvert_exporter": "python",
   "pygments_lexer": "ipython3",
   "version": "3.7.6-final"
  },
  "orig_nbformat": 2,
  "kernelspec": {
   "name": "python3",
   "display_name": "Python 3"
  }
 },
 "nbformat": 4,
 "nbformat_minor": 2,
 "cells": [
  {
   "source": [
    "## 1. Abstraction\n",
    "* Tìm dãy con liên tục có tổng lớn nhất"
   ],
   "cell_type": "markdown",
   "metadata": {}
  },
  {
   "source": [
    "## 2. Pattern Recognition\n",
    "* Dynamic programming ( Quy hoạch động )"
   ],
   "cell_type": "markdown",
   "metadata": {}
  },
  {
   "source": [
    "## 3. Algorithm designed\n",
    "3.1. Input, output and temporary :\n",
    "* Input : n và dãy l có n phần tử ( 1 <= n <= 10^6)\n",
    "* Output : start, end, tổng l[[start]]...A[[end]]\n",
    "* Temporary : temp, start, end\n",
    "\n",
    "3.2. Initialize :\n",
    "* start = end = max_end = temp = 0\n",
    "\n",
    "3.3. Loop :\n",
    "* Vòng lặp i chạy từ 0 đến n - 1 của mảng l\n",
    "\n",
    "(1) max_end = max_end + l[[i]]\n",
    "\n",
    "(2) if ( max_end < 0 )\n",
    "\n",
    "        max_end = 0\n",
    "        \n",
    "        the variable \"temp\"  will increase 1\n",
    "\n",
    "(3) if ( length < max_end )\n",
    "\n",
    "        length = max_end\n",
    "\n",
    "        start = temp \n",
    "        \n",
    "        end = i \n",
    "        \n",
    "3.4. Result\n",
    "* Return start+1,end+1,length\n",
    "\n",
    "3.5. Time Complexity \n",
    "* O(n)"
   ],
   "cell_type": "markdown",
   "metadata": {}
  },
  {
   "source": [
    "## 4. Programming :"
   ],
   "cell_type": "markdown",
   "metadata": {}
  },
  {
   "source": [
    "n = int(input())\n",
    "l = list (map(int, input().split()))\n",
    " \n",
    "start = 0\n",
    "end = 0\n",
    "length = -1\n",
    "max_end = 0\n",
    "temp = 0\n",
    " \n",
    "for i in range(n):\n",
    "  max_end =max_end + l[i] \n",
    " \n",
    "  if max_end < 0:\n",
    "    max_end = 0\n",
    "    temp = i+1\n",
    " \n",
    "  if length < max_end:\n",
    "    length = max_end\n",
    "    start = temp \n",
    "    end = i \n",
    " \n",
    "print(start+1,end+1,length)  "
   ],
   "cell_type": "code",
   "metadata": {},
   "execution_count": null,
   "outputs": []
  },
  {
   "source": [
    "16\n",
    "\n",
    "2 -4 5 -8 4 -1 -1 1 1 1 -2 2 4 -6 9 -4\n",
    "\n",
    "5 15 12"
   ],
   "cell_type": "markdown",
   "metadata": {}
  }
 ]
}
